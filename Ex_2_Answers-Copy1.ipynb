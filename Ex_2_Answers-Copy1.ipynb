{
 "cells": [
  {
   "cell_type": "markdown",
   "metadata": {},
   "source": [
    "## Exercise 2: Convolutional Networks\n",
    "#### Marohom, Alec Louie A. | 2019190226"
   ]
  },
  {
   "cell_type": "markdown",
   "metadata": {},
   "source": [
    "#### Instructions:\n",
    "Train a convolutional network that classifies the data in the provided dataset. Feel free to experiment with the layer architectures as long as it meets the requirements below. Perform the following after the training.\n",
    "\n",
    "Architecture requirements"
   ]
  },
  {
   "cell_type": "markdown",
   "metadata": {},
   "source": [
    "a)\tIf your first name starts with A-M, all pooling must be max pooling, else they must be average pooling"
   ]
  },
  {
   "cell_type": "markdown",
   "metadata": {},
   "source": [
    "b)\tA convolutional layer with NxN filter must exist (at least 1) where N is the number of vowels in your surname + 1."
   ]
  },
  {
   "cell_type": "markdown",
   "metadata": {},
   "source": [
    "c)\tOverall, the network should use at least 2 dense layers"
   ]
  },
  {
   "cell_type": "code",
   "execution_count": 13,
   "metadata": {},
   "outputs": [],
   "source": [
    "import pandas as pd\n",
    "import matplotlib.pyplot as plt\n",
    "import tensorflow as tf\n",
    "import numpy as np\n",
    "import seaborn as sns\n",
    "\n",
    "from sklearn.metrics import roc_auc_score, accuracy_score, confusion_matrix, classification_report\n",
    "from sklearn.preprocessing import OneHotEncoder"
   ]
  },
  {
   "cell_type": "code",
   "execution_count": 14,
   "metadata": {},
   "outputs": [],
   "source": [
    "def prepData(df):\n",
    "    print('df shape: ', df.shape)\n",
    "    y = df['Label'].values #---------------- flat target | y[:5]\n",
    "    print('\\ny: \\n', y[:5])\n",
    "    y_encoder = OneHotEncoder(sparse=False)\n",
    "    y_reshape = y.reshape(-1, 1) #---------------- multidimensional target | y_encoded[:5]\n",
    "    y_encoded = y_encoder.fit_transform(y_reshape)\n",
    "    print('\\ny_encoded: \\n', y_encoded[:5])\n",
    "    imageInPixel = df.drop('Label', axis=1).values #---------------- pixel values\n",
    "    print('\\nimageInPixel: \\n', imageInPixel)\n",
    "    X = imageInPixel.reshape(-1, 28, 28, 1)\n",
    "    # imageInPixel = array of images\n",
    "    # X[a] = array of rows in image(a)\n",
    "    # X[a][b] = array of pixel values in row(b) in image(a)\n",
    "    # X[a][b][c] = value of pixel(c) in row(b) in image(a)\n",
    "    \n",
    "    return X, y_encoded, y"
   ]
  },
  {
   "cell_type": "markdown",
   "metadata": {},
   "source": [
    "## -------------------------- Data Prep"
   ]
  },
  {
   "cell_type": "code",
   "execution_count": 15,
   "metadata": {},
   "outputs": [],
   "source": [
    "traindf = pd.read_csv('utensils_train.csv')\n",
    "testdf = pd.read_csv('utensils_test.csv')"
   ]
  },
  {
   "cell_type": "code",
   "execution_count": 20,
   "metadata": {},
   "outputs": [
    {
     "data": {
      "text/plain": [
       "Label       int64\n",
       "Pixel0      int64\n",
       "Pixel1      int64\n",
       "Pixel2      int64\n",
       "Pixel3      int64\n",
       "            ...  \n",
       "Pixel779    int64\n",
       "Pixel780    int64\n",
       "Pixel781    int64\n",
       "Pixel782    int64\n",
       "Pixel783    int64\n",
       "Length: 785, dtype: object"
      ]
     },
     "execution_count": 20,
     "metadata": {},
     "output_type": "execute_result"
    }
   ],
   "source": [
    "traindf.dtypes"
   ]
  },
  {
   "cell_type": "code",
   "execution_count": 16,
   "metadata": {},
   "outputs": [
    {
     "name": "stdout",
     "output_type": "stream",
     "text": [
      "df shape:  (637, 785)\n",
      "\n",
      "y: \n",
      " [0 0 2 1 0]\n",
      "\n",
      "y_encoded: \n",
      " [[1. 0. 0.]\n",
      " [1. 0. 0.]\n",
      " [0. 0. 1.]\n",
      " [0. 1. 0.]\n",
      " [1. 0. 0.]]\n",
      "\n",
      "imageInPixel: \n",
      " [[0 0 0 ... 0 0 0]\n",
      " [0 0 0 ... 0 0 0]\n",
      " [0 0 0 ... 0 0 0]\n",
      " ...\n",
      " [0 0 0 ... 0 0 0]\n",
      " [0 0 0 ... 0 0 0]\n",
      " [0 0 0 ... 0 0 0]]\n"
     ]
    }
   ],
   "source": [
    "X_train, y_train_encoded, y_train_raw = prepData(traindf)"
   ]
  },
  {
   "cell_type": "code",
   "execution_count": 17,
   "metadata": {},
   "outputs": [
    {
     "name": "stdout",
     "output_type": "stream",
     "text": [
      "df shape:  (71, 785)\n",
      "\n",
      "y: \n",
      " [2 1 2 0 1]\n",
      "\n",
      "y_encoded: \n",
      " [[0. 0. 1.]\n",
      " [0. 1. 0.]\n",
      " [0. 0. 1.]\n",
      " [1. 0. 0.]\n",
      " [0. 1. 0.]]\n",
      "\n",
      "imageInPixel: \n",
      " [[0 0 0 ... 0 0 0]\n",
      " [0 0 0 ... 0 0 0]\n",
      " [0 0 0 ... 0 0 0]\n",
      " ...\n",
      " [0 0 0 ... 0 0 0]\n",
      " [0 0 0 ... 0 0 0]\n",
      " [0 0 0 ... 0 0 0]]\n"
     ]
    }
   ],
   "source": [
    "X_test, y_test_encoded, y_test_raw = prepData(testdf)"
   ]
  },
  {
   "cell_type": "markdown",
   "metadata": {
    "jupyter": {
     "outputs_hidden": true
    }
   },
   "source": [
    "    for i in range(20,25):\n",
    "        plt.imshow(X[i].reshape(28, 28))\n",
    "        plt.show()\n",
    "        print('Label:', y[i])"
   ]
  },
  {
   "cell_type": "markdown",
   "metadata": {},
   "source": [
    "## -------------------------- Model Architecture "
   ]
  },
  {
   "cell_type": "code",
   "execution_count": 6,
   "metadata": {},
   "outputs": [
    {
     "name": "stdout",
     "output_type": "stream",
     "text": [
      "Model: \"model\"\n",
      "_________________________________________________________________\n",
      "Layer (type)                 Output Shape              Param #   \n",
      "=================================================================\n",
      "input_1 (InputLayer)         [(None, 28, 28, 1)]       0         \n",
      "_________________________________________________________________\n",
      "conv2d (Conv2D)              (None, 25, 25, 12)        204       \n",
      "_________________________________________________________________\n",
      "conv2d_1 (Conv2D)            (None, 24, 24, 12)        588       \n",
      "_________________________________________________________________\n",
      "max_pooling2d (MaxPooling2D) (None, 12, 12, 12)        0         \n",
      "_________________________________________________________________\n",
      "conv2d_2 (Conv2D)            (None, 11, 11, 12)        588       \n",
      "_________________________________________________________________\n",
      "conv2d_3 (Conv2D)            (None, 10, 10, 12)        588       \n",
      "_________________________________________________________________\n",
      "conv2d_4 (Conv2D)            (None, 9, 9, 12)          588       \n",
      "_________________________________________________________________\n",
      "conv2d_5 (Conv2D)            (None, 8, 8, 12)          588       \n",
      "_________________________________________________________________\n",
      "max_pooling2d_1 (MaxPooling2 (None, 2, 2, 12)          0         \n",
      "_________________________________________________________________\n",
      "flatten (Flatten)            (None, 48)                0         \n",
      "_________________________________________________________________\n",
      "dense (Dense)                (None, 100)               4900      \n",
      "_________________________________________________________________\n",
      "dense_1 (Dense)              (None, 80)                8080      \n",
      "_________________________________________________________________\n",
      "dense_2 (Dense)              (None, 3)                 243       \n",
      "=================================================================\n",
      "Total params: 16,367\n",
      "Trainable params: 16,367\n",
      "Non-trainable params: 0\n",
      "_________________________________________________________________\n"
     ]
    }
   ],
   "source": [
    "# Architecture Requirements:\n",
    "# Alec Marohom\n",
    "# a) If your first name starts with A-M, all pooling must be max pooling, else they must be average pooling\n",
    "#    A - Max Pooling\n",
    "# b) A convolutional layer with NxN filter must exist (at least 1) where N is the number of vowels in your surname + 1.\n",
    "#    N = 4 | 4x4 filter\n",
    "\n",
    "input_ = tf.keras.Input((28, 28, 1))\n",
    "conv1 = tf.keras.layers.Conv2D(12, (4, 4), activation='relu')(input_)\n",
    "conv2 = tf.keras.layers.Conv2D(12, (2, 2), activation='relu')(conv1)\n",
    "mp1 = tf.keras.layers.MaxPool2D((2,2))(conv2)\n",
    "conv3 = tf.keras.layers.Conv2D(12, (2, 2), activation='relu')(mp1)\n",
    "conv4 = tf.keras.layers.Conv2D(12, (2, 2), activation='relu')(conv3)\n",
    "conv5 = tf.keras.layers.Conv2D(12, (2, 2), activation='relu')(conv4)\n",
    "conv6 = tf.keras.layers.Conv2D(12, (2, 2), activation='relu')(conv5)\n",
    "mp2 = tf.keras.layers.MaxPool2D((4,4))(conv6)\n",
    "fl = tf.keras.layers.Flatten()(mp2)\n",
    "\n",
    "dense1 = tf.keras.layers.Dense(100, activation='softmax')(fl)\n",
    "dense2 = tf.keras.layers.Dense(80, activation='relu')(dense1)\n",
    "output = tf.keras.layers.Dense(3, activation='softmax')(dense2) #---------------- softmax returns normalized prediction values | sums to 1\n",
    "\n",
    "\n",
    "model = tf.keras.Model(inputs=input_, outputs=output)\n",
    "model.summary()"
   ]
  },
  {
   "cell_type": "markdown",
   "metadata": {},
   "source": [
    "## -------------------------- Model Training"
   ]
  },
  {
   "cell_type": "code",
   "execution_count": 7,
   "metadata": {},
   "outputs": [],
   "source": [
    "class EarlyStoppingAt(tf.keras.callbacks.Callback):\n",
    "    def __init__(self, monitor='val_loss', value=0.00001, verbose=0):\n",
    "        super(tf.keras.callbacks.Callback, self).__init__()\n",
    "        self.monitor = monitor\n",
    "        self.value = value\n",
    "        self.verbose = verbose\n",
    "\n",
    "    def on_epoch_end(self, epoch, logs={}):\n",
    "        if logs.get(self.monitor) <= self.value:\n",
    "            self.model.stop_training = True"
   ]
  },
  {
   "cell_type": "code",
   "execution_count": 8,
   "metadata": {},
   "outputs": [],
   "source": [
    "#filepath = r'models/'\n",
    "bestFilePath = r'models/best_model/'\n",
    "\n",
    "cbList = [\n",
    "    EarlyStoppingAt(monitor='val_loss', value=0.01),\n",
    "    #tf.keras.callbacks.EarlyStopping(monitor='val_loss', baseline=2.00),\n",
    "    #tf.keras.callbacks.ModelCheckpoint(filepath, monitor='val_loss',save_freq='epoch'),\n",
    "    tf.keras.callbacks.ModelCheckpoint(bestFilePath, save_best_only=True)\n",
    "         ]"
   ]
  },
  {
   "cell_type": "code",
   "execution_count": 9,
   "metadata": {},
   "outputs": [],
   "source": [
    "model.compile('adam', 'categorical_crossentropy')"
   ]
  },
  {
   "cell_type": "code",
   "execution_count": 10,
   "metadata": {},
   "outputs": [
    {
     "name": "stdout",
     "output_type": "stream",
     "text": [
      "Train on 637 samples, validate on 71 samples\n",
      "Epoch 1/35\n",
      "592/637 [==========================>...] - ETA: 0s - loss: 1.0758WARNING:tensorflow:From C:\\Users\\Alec\\anaconda3\\lib\\site-packages\\tensorflow_core\\python\\ops\\resource_variable_ops.py:1786: calling BaseResourceVariable.__init__ (from tensorflow.python.ops.resource_variable_ops) with constraint is deprecated and will be removed in a future version.\n",
      "Instructions for updating:\n",
      "If using Keras pass *_constraint arguments to layers.\n",
      "INFO:tensorflow:Assets written to: models/best_model/assets\n",
      "637/637 [==============================] - 2s 4ms/sample - loss: 1.0732 - val_loss: 1.0585\n",
      "Epoch 2/35\n",
      "632/637 [============================>.] - ETA: 0s - loss: 1.0460INFO:tensorflow:Assets written to: models/best_model/assets\n",
      "637/637 [==============================] - 2s 3ms/sample - loss: 1.0444 - val_loss: 1.0410\n",
      "Epoch 3/35\n",
      "608/637 [===========================>..] - ETA: 0s - loss: 1.0324INFO:tensorflow:Assets written to: models/best_model/assets\n",
      "637/637 [==============================] - 2s 3ms/sample - loss: 1.0331 - val_loss: 0.9885\n",
      "Epoch 4/35\n",
      "637/637 [==============================] - 1s 1ms/sample - loss: 1.0030 - val_loss: 1.0126\n",
      "Epoch 5/35\n",
      "637/637 [==============================] - 1s 1ms/sample - loss: 0.9757 - val_loss: 1.0035\n",
      "Epoch 6/35\n",
      "624/637 [============================>.] - ETA: 0s - loss: 0.9111INFO:tensorflow:Assets written to: models/best_model/assets\n",
      "637/637 [==============================] - 2s 3ms/sample - loss: 0.9118 - val_loss: 0.9616\n",
      "Epoch 7/35\n",
      "637/637 [==============================] - 1s 1ms/sample - loss: 0.8998 - val_loss: 1.0147\n",
      "Epoch 8/35\n",
      "592/637 [==========================>...] - ETA: 0s - loss: 0.8559INFO:tensorflow:Assets written to: models/best_model/assets\n",
      "637/637 [==============================] - 2s 3ms/sample - loss: 0.8589 - val_loss: 0.8962\n",
      "Epoch 9/35\n",
      "600/637 [===========================>..] - ETA: 0s - loss: 0.7996INFO:tensorflow:Assets written to: models/best_model/assets\n",
      "637/637 [==============================] - 2s 3ms/sample - loss: 0.8023 - val_loss: 0.8585\n",
      "Epoch 10/35\n",
      "637/637 [==============================] - 1s 1ms/sample - loss: 0.7963 - val_loss: 0.9941\n",
      "Epoch 11/35\n",
      "637/637 [==============================] - 1s 1ms/sample - loss: 0.7471 - val_loss: 1.0155\n",
      "Epoch 12/35\n",
      "637/637 [==============================] - 1s 1ms/sample - loss: 0.7291 - val_loss: 0.9728\n",
      "Epoch 13/35\n",
      "637/637 [==============================] - 1s 1ms/sample - loss: 0.7692 - val_loss: 0.9619\n",
      "Epoch 14/35\n",
      "637/637 [==============================] - 1s 1ms/sample - loss: 0.7081 - val_loss: 0.9463\n",
      "Epoch 15/35\n",
      "637/637 [==============================] - 1s 1ms/sample - loss: 0.7042 - val_loss: 0.9776\n",
      "Epoch 16/35\n",
      "637/637 [==============================] - 1s 1ms/sample - loss: 0.6602 - val_loss: 1.0347\n",
      "Epoch 17/35\n",
      "637/637 [==============================] - 1s 1ms/sample - loss: 0.5887 - val_loss: 1.0455\n",
      "Epoch 18/35\n",
      "637/637 [==============================] - 1s 1ms/sample - loss: 0.5983 - val_loss: 1.0257\n",
      "Epoch 19/35\n",
      "637/637 [==============================] - 1s 1ms/sample - loss: 0.5833 - val_loss: 1.1789\n",
      "Epoch 20/35\n",
      "637/637 [==============================] - 1s 1ms/sample - loss: 0.5478 - val_loss: 1.2504\n",
      "Epoch 21/35\n",
      "637/637 [==============================] - 1s 1ms/sample - loss: 0.5306 - val_loss: 1.2804\n",
      "Epoch 22/35\n",
      "637/637 [==============================] - 1s 1ms/sample - loss: 0.5115 - val_loss: 1.2316\n",
      "Epoch 23/35\n",
      "637/637 [==============================] - 1s 1ms/sample - loss: 0.5511 - val_loss: 1.1722\n",
      "Epoch 24/35\n",
      "637/637 [==============================] - 1s 1ms/sample - loss: 0.5467 - val_loss: 1.1852\n",
      "Epoch 25/35\n",
      "637/637 [==============================] - 1s 1ms/sample - loss: 0.5640 - val_loss: 1.0960\n",
      "Epoch 26/35\n",
      "637/637 [==============================] - 1s 1ms/sample - loss: 0.5790 - val_loss: 1.0381\n",
      "Epoch 27/35\n",
      "637/637 [==============================] - 1s 1ms/sample - loss: 0.5139 - val_loss: 1.3191\n",
      "Epoch 28/35\n",
      "637/637 [==============================] - 1s 1ms/sample - loss: 0.5025 - val_loss: 1.2355\n",
      "Epoch 29/35\n",
      "637/637 [==============================] - 1s 1ms/sample - loss: 0.5193 - val_loss: 1.3202\n",
      "Epoch 30/35\n",
      "637/637 [==============================] - 1s 1ms/sample - loss: 0.4724 - val_loss: 1.2931\n",
      "Epoch 31/35\n",
      "637/637 [==============================] - 1s 1ms/sample - loss: 0.4766 - val_loss: 1.2710\n",
      "Epoch 32/35\n",
      "637/637 [==============================] - 1s 1ms/sample - loss: 0.4651 - val_loss: 1.2126\n",
      "Epoch 33/35\n",
      "637/637 [==============================] - 1s 1ms/sample - loss: 0.5902 - val_loss: 0.9705\n",
      "Epoch 34/35\n",
      "637/637 [==============================] - 1s 1ms/sample - loss: 0.6376 - val_loss: 1.1401\n",
      "Epoch 35/35\n",
      "637/637 [==============================] - 1s 1ms/sample - loss: 0.5186 - val_loss: 1.0070\n"
     ]
    }
   ],
   "source": [
    "hst = model.fit(X_train, y_train_encoded, batch_size=8, epochs=35, validation_data=(X_test, y_test_encoded), callbacks=cbList)"
   ]
  },
  {
   "cell_type": "markdown",
   "metadata": {},
   "source": [
    "## -------------------------- Model Performance Evaluation"
   ]
  },
  {
   "cell_type": "code",
   "execution_count": 11,
   "metadata": {},
   "outputs": [],
   "source": [
    "best_model = tf.keras.models.load_model(bestFilePath)\n",
    "y_test_pred = best_model.predict(X_test)\n",
    "y_test_pred = np.argmax(y_test_pred, axis=1)"
   ]
  },
  {
   "cell_type": "code",
   "execution_count": 12,
   "metadata": {},
   "outputs": [
    {
     "name": "stdout",
     "output_type": "stream",
     "text": [
      "Random Guess Accuracy: 33.3333 %\n",
      "Model Accuracy:  60.5634 %\n"
     ]
    }
   ],
   "source": [
    "print('Random Guess Accuracy: 33.3333 %')\n",
    "print('Model Accuracy: ', \"%.4f\" % (accuracy_score(y_test_raw, y_test_pred) * 100), '%')"
   ]
  },
  {
   "cell_type": "code",
   "execution_count": 13,
   "metadata": {},
   "outputs": [
    {
     "name": "stdout",
     "output_type": "stream",
     "text": [
      "Model Precision, and Recall: \n",
      "\n",
      "              precision    recall  f1-score   support\n",
      "\n",
      "           0       0.61      0.87      0.71        23\n",
      "           1       0.57      0.19      0.29        21\n",
      "           2       0.61      0.70      0.66        27\n",
      "\n",
      "    accuracy                           0.61        71\n",
      "   macro avg       0.60      0.59      0.55        71\n",
      "weighted avg       0.60      0.61      0.57        71\n",
      "\n"
     ]
    }
   ],
   "source": [
    "print('Model Precision, and Recall: \\n')\n",
    "print(classification_report(y_test_raw, y_test_pred))"
   ]
  },
  {
   "cell_type": "code",
   "execution_count": 14,
   "metadata": {},
   "outputs": [
    {
     "name": "stdout",
     "output_type": "stream",
     "text": [
      "Confusion Matrix: \n",
      "\n"
     ]
    },
    {
     "data": {
      "image/png": "[encoded data removed]",
      "text/plain": [
       "<Figure size 432x288 with 2 Axes>"
      ]
     },
     "metadata": {
      "needs_background": "light"
     },
     "output_type": "display_data"
    }
   ],
   "source": [
    "sns.heatmap(confusion_matrix(y_test_raw, y_test_pred), annot=True)\n",
    "plt.ylabel('True')\n",
    "plt.xlabel('Pred')\n",
    "print('Confusion Matrix: \\n')\n",
    "plt.show()"
   ]
  }
 ],
 "metadata": {
  "kernelspec": {
   "display_name": "Python 3",
   "language": "python",
   "name": "python3"
  },
  "language_info": {
   "codemirror_mode": {
    "name": "ipython",
    "version": 3
   },
   "file_extension": ".py",
   "mimetype": "text/x-python",
   "name": "python",
   "nbconvert_exporter": "python",
   "pygments_lexer": "ipython3",
   "version": "3.7.6"
  }
 },
 "nbformat": 4,
 "nbformat_minor": 4
}
