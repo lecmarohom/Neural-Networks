{
 "cells": [
  {
   "cell_type": "markdown",
   "metadata": {},
   "source": [
    "## Exercise 1B: Keras and Dense Networks\n",
    "#### Marohom, Alec Louie A. | 2019190226"
   ]
  },
  {
   "cell_type": "markdown",
   "metadata": {},
   "source": [
    "#### Instructions:\n",
    "Using Keras, train a network to solve a non-linear function Ax^2 + By^2 + Cz^2 + D. Generate 1000 random samples (0-1) using 20% of the data for a test set. Generate a check point at each epoch and use early stopping [1] to determine when the training should stop. Use the appropriate loss function for the problem. You can use the Keras and Deep Dense Networks notebooks as reference. Submit the notebooks (b, c, d) and this document containing the answers."
   ]
  },
  {
   "cell_type": "markdown",
   "metadata": {},
   "source": [
    "Note:\n",
    "[1]: This means you need a validation data. It’s up to you to select the validation split that works for you."
   ]
  },
  {
   "cell_type": "markdown",
   "metadata": {},
   "source": [
    "c.\tFrom b, keep the layer with the highest number of units and remove the others. This means that your network will be \n",
    "##### Input -> Output.\n",
    "What is the mean absolute error for the test set?"
   ]
  },
  {
   "cell_type": "code",
   "execution_count": 1,
   "metadata": {},
   "outputs": [],
   "source": [
    "import numpy as np\n",
    "import pandas as pd\n",
    "import tensorflow as tf\n",
    "import random\n",
    "from sklearn.model_selection import train_test_split as tts"
   ]
  },
  {
   "cell_type": "code",
   "execution_count": 2,
   "metadata": {},
   "outputs": [],
   "source": [
    "a = 1 #Alec \n",
    "c = 13 #Marohom\n",
    "b = c - a\n",
    "d = -b\n",
    "\n",
    "nSamples = 1000"
   ]
  },
  {
   "cell_type": "code",
   "execution_count": 3,
   "metadata": {},
   "outputs": [],
   "source": [
    "def fxn(x, y, z):\n",
    "    return (a*(x**2)) + (b*(y**2)) + (c*(z**2)) + d"
   ]
  },
  {
   "cell_type": "markdown",
   "metadata": {},
   "source": [
    "    datalist = np.random.rand(1000, 3) # random data generated\n",
    "    data1b = pd.DataFrame(datalist, columns=['X','Y','Z'])\n",
    "    data1b.to_csv('ex_1B_data.csv', index=False)"
   ]
  },
  {
   "cell_type": "code",
   "execution_count": 4,
   "metadata": {},
   "outputs": [],
   "source": [
    "datadf = pd.read_csv('ex_1B_data.csv')\n",
    "X = datadf.values"
   ]
  },
  {
   "cell_type": "code",
   "execution_count": 5,
   "metadata": {},
   "outputs": [],
   "source": [
    "X_train, X_test = tts(X, random_state=2020, test_size=0.2)"
   ]
  },
  {
   "cell_type": "code",
   "execution_count": 6,
   "metadata": {},
   "outputs": [],
   "source": [
    "y_train = fxn(X_train[:,0],X_train[:,1],X_train[:,2])\n",
    "y_test = fxn(X_test[:,0],X_test[:,1],X_test[:,2])"
   ]
  },
  {
   "cell_type": "code",
   "execution_count": 7,
   "metadata": {},
   "outputs": [],
   "source": [
    "input_ = tf.keras.layers.Input(shape=(3,)) # input shape\n",
    "\n",
    "#dense1 = tf.keras.layers.Dense(500, activation='relu')(input_)\n",
    "#dense2 = tf.keras.layers.Dense(500, activation='relu')(dense1)\n",
    "\n",
    "output = tf.keras.layers.Dense(1)(input_)"
   ]
  },
  {
   "cell_type": "code",
   "execution_count": 8,
   "metadata": {},
   "outputs": [],
   "source": [
    "model = tf.keras.Model(inputs=input_, outputs=output)"
   ]
  },
  {
   "cell_type": "code",
   "execution_count": 9,
   "metadata": {},
   "outputs": [],
   "source": [
    "class EarlyStoppingAt(tf.keras.callbacks.Callback):\n",
    "    def __init__(self, monitor='val_loss', value=0.00001, verbose=0):\n",
    "        super(tf.keras.callbacks.Callback, self).__init__()\n",
    "        self.monitor = monitor\n",
    "        self.value = value\n",
    "        self.verbose = verbose\n",
    "\n",
    "    def on_epoch_end(self, epoch, logs={}):\n",
    "        if logs.get(self.monitor) <= self.value:\n",
    "            self.model.stop_training = True"
   ]
  },
  {
   "cell_type": "code",
   "execution_count": 10,
   "metadata": {},
   "outputs": [],
   "source": [
    "filepath = r'models/'\n",
    "\n",
    "cbList = [\n",
    "    EarlyStoppingAt(monitor='val_loss', value=0.01),\n",
    "    #tf.keras.callbacks.EarlyStopping(monitor='val_loss', mode='min', min_delta=0.01, patience=5)\n",
    "    tf.keras.callbacks.ModelCheckpoint(filepath, monitor='val_loss',save_freq='epoch')\n",
    "         ]"
   ]
  },
  {
   "cell_type": "code",
   "execution_count": 11,
   "metadata": {},
   "outputs": [],
   "source": [
    "model.compile('adam', loss='mse', metrics=['mae'])"
   ]
  },
  {
   "cell_type": "code",
   "execution_count": 12,
   "metadata": {
    "scrolled": false
   },
   "outputs": [
    {
     "name": "stdout",
     "output_type": "stream",
     "text": [
      "Train on 800 samples, validate on 200 samples\n",
      "Epoch 1/50\n",
      "737/800 [==========================>...] - ETA: 0s - loss: 43.5208 - mae: 5.5820WARNING:tensorflow:From C:\\Users\\Alec\\anaconda3\\lib\\site-packages\\tensorflow_core\\python\\ops\\resource_variable_ops.py:1786: calling BaseResourceVariable.__init__ (from tensorflow.python.ops.resource_variable_ops) with constraint is deprecated and will be removed in a future version.\n",
      "Instructions for updating:\n",
      "If using Keras pass *_constraint arguments to layers.\n",
      "INFO:tensorflow:Assets written to: models/assets\n",
      "800/800 [==============================] - 1s 2ms/sample - loss: 43.6130 - mae: 5.5982 - val_loss: 41.8115 - val_mae: 5.5233\n",
      "Epoch 2/50\n",
      "793/800 [============================>.] - ETA: 0s - loss: 37.5769 - mae: 5.1498INFO:tensorflow:Assets written to: models/assets\n",
      "800/800 [==============================] - 1s 1ms/sample - loss: 37.5681 - mae: 5.1511 - val_loss: 37.8376 - val_mae: 5.2270\n",
      "Epoch 3/50\n",
      "779/800 [============================>.] - ETA: 0s - loss: 34.0195 - mae: 4.9002INFO:tensorflow:Assets written to: models/assets\n",
      "800/800 [==============================] - 1s 1ms/sample - loss: 33.9337 - mae: 4.8957 - val_loss: 35.4445 - val_mae: 5.0289\n",
      "Epoch 4/50\n",
      "736/800 [==========================>...] - ETA: 0s - loss: 31.2048 - mae: 4.6736INFO:tensorflow:Assets written to: models/assets\n",
      "800/800 [==============================] - 1s 1ms/sample - loss: 31.6576 - mae: 4.7216 - val_loss: 33.9233 - val_mae: 4.9167\n",
      "Epoch 5/50\n",
      "786/800 [============================>.] - ETA: 0s - loss: 30.0033 - mae: 4.6012INFO:tensorflow:Assets written to: models/assets\n",
      "800/800 [==============================] - 1s 2ms/sample - loss: 30.1151 - mae: 4.6066 - val_loss: 32.8252 - val_mae: 4.8252\n",
      "Epoch 6/50\n",
      "779/800 [============================>.] - ETA: 0s - loss: 28.9768 - mae: 4.5165INFO:tensorflow:Assets written to: models/assets\n",
      "800/800 [==============================] - 1s 1ms/sample - loss: 28.9889 - mae: 4.5169 - val_loss: 31.9501 - val_mae: 4.7469\n",
      "Epoch 7/50\n",
      "758/800 [===========================>..] - ETA: 0s - loss: 28.5184 - mae: 4.4832INFO:tensorflow:Assets written to: models/assets\n",
      "800/800 [==============================] - 1s 1ms/sample - loss: 28.0829 - mae: 4.4441 - val_loss: 31.1822 - val_mae: 4.6812\n",
      "Epoch 8/50\n",
      "757/800 [===========================>..] - ETA: 0s - loss: 27.3614 - mae: 4.3867INFO:tensorflow:Assets written to: models/assets\n",
      "800/800 [==============================] - 1s 1ms/sample - loss: 27.3150 - mae: 4.3799 - val_loss: 30.4798 - val_mae: 4.6206\n",
      "Epoch 9/50\n",
      "748/800 [===========================>..] - ETA: 0s - loss: 26.7774 - mae: 4.3457INFO:tensorflow:Assets written to: models/assets\n",
      "800/800 [==============================] - 1s 1ms/sample - loss: 26.6129 - mae: 4.3226 - val_loss: 29.8065 - val_mae: 4.5642\n",
      "Epoch 10/50\n",
      "789/800 [============================>.] - ETA: 0s - loss: 25.6544 - mae: 4.2419INFO:tensorflow:Assets written to: models/assets\n",
      "800/800 [==============================] - 1s 1ms/sample - loss: 25.9630 - mae: 4.2689 - val_loss: 29.1623 - val_mae: 4.5120\n",
      "Epoch 11/50\n",
      "735/800 [==========================>...] - ETA: 0s - loss: 25.3104 - mae: 4.2009INFO:tensorflow:Assets written to: models/assets\n",
      "800/800 [==============================] - 1s 1ms/sample - loss: 25.3409 - mae: 4.2173 - val_loss: 28.5076 - val_mae: 4.4622\n",
      "Epoch 12/50\n",
      "757/800 [===========================>..] - ETA: 0s - loss: 24.6004 - mae: 4.1390INFO:tensorflow:Assets written to: models/assets\n",
      "800/800 [==============================] - 1s 1ms/sample - loss: 24.7435 - mae: 4.1668 - val_loss: 27.8678 - val_mae: 4.4130\n",
      "Epoch 13/50\n",
      "769/800 [===========================>..] - ETA: 0s - loss: 24.3725 - mae: 4.1390INFO:tensorflow:Assets written to: models/assets\n",
      "800/800 [==============================] - 1s 1ms/sample - loss: 24.1677 - mae: 4.1178 - val_loss: 27.2516 - val_mae: 4.3649\n",
      "Epoch 14/50\n",
      "754/800 [===========================>..] - ETA: 0s - loss: 23.5087 - mae: 4.0545INFO:tensorflow:Assets written to: models/assets\n",
      "800/800 [==============================] - 1s 1ms/sample - loss: 23.6050 - mae: 4.0693 - val_loss: 26.6234 - val_mae: 4.3164\n",
      "Epoch 15/50\n",
      "769/800 [===========================>..] - ETA: 0s - loss: 22.8517 - mae: 4.0058INFO:tensorflow:Assets written to: models/assets\n",
      "800/800 [==============================] - 1s 2ms/sample - loss: 23.0518 - mae: 4.0229 - val_loss: 26.0174 - val_mae: 4.2684\n",
      "Epoch 16/50\n",
      "755/800 [===========================>..] - ETA: 0s - loss: 22.5095 - mae: 3.9684INFO:tensorflow:Assets written to: models/assets\n",
      "800/800 [==============================] - 1s 1ms/sample - loss: 22.5165 - mae: 3.9740 - val_loss: 25.4290 - val_mae: 4.2215\n",
      "Epoch 17/50\n",
      "777/800 [============================>.] - ETA: 0s - loss: 21.9694 - mae: 3.9294INFO:tensorflow:Assets written to: models/assets\n",
      "800/800 [==============================] - 1s 1ms/sample - loss: 21.9971 - mae: 3.9288 - val_loss: 24.8512 - val_mae: 4.1746\n",
      "Epoch 18/50\n",
      "770/800 [===========================>..] - ETA: 0s - loss: 21.3595 - mae: 3.8829INFO:tensorflow:Assets written to: models/assets\n",
      "800/800 [==============================] - 1s 2ms/sample - loss: 21.4845 - mae: 3.8826 - val_loss: 24.2774 - val_mae: 4.1274\n",
      "Epoch 19/50\n",
      "787/800 [============================>.] - ETA: 0s - loss: 21.1074 - mae: 3.8459INFO:tensorflow:Assets written to: models/assets\n",
      "800/800 [==============================] - 1s 2ms/sample - loss: 20.9812 - mae: 3.8376 - val_loss: 23.7169 - val_mae: 4.0807\n",
      "Epoch 20/50\n",
      "743/800 [==========================>...] - ETA: 0s - loss: 20.5751 - mae: 3.7964INFO:tensorflow:Assets written to: models/assets\n",
      "800/800 [==============================] - 1s 1ms/sample - loss: 20.4905 - mae: 3.7927 - val_loss: 23.1647 - val_mae: 4.0339\n",
      "Epoch 21/50\n",
      "762/800 [===========================>..] - ETA: 0s - loss: 20.2900 - mae: 3.7735INFO:tensorflow:Assets written to: models/assets\n",
      "800/800 [==============================] - 1s 1ms/sample - loss: 20.0062 - mae: 3.7467 - val_loss: 22.6248 - val_mae: 3.9876\n",
      "Epoch 22/50\n",
      "799/800 [============================>.] - ETA: 0s - loss: 19.5232 - mae: 3.6997INFO:tensorflow:Assets written to: models/assets\n",
      "800/800 [==============================] - 2s 3ms/sample - loss: 19.5338 - mae: 3.7017 - val_loss: 22.0864 - val_mae: 3.9416\n",
      "Epoch 23/50\n",
      "797/800 [============================>.] - ETA: 0s - loss: 19.1346 - mae: 3.6664INFO:tensorflow:Assets written to: models/assets\n",
      "800/800 [==============================] - 2s 2ms/sample - loss: 19.0702 - mae: 3.6569 - val_loss: 21.5581 - val_mae: 3.8951\n",
      "Epoch 24/50\n",
      "794/800 [============================>.] - ETA: 0s - loss: 18.7050 - mae: 3.6258INFO:tensorflow:Assets written to: models/assets\n",
      "800/800 [==============================] - 2s 2ms/sample - loss: 18.6150 - mae: 3.6152 - val_loss: 21.0512 - val_mae: 3.8495\n",
      "Epoch 25/50\n",
      "759/800 [===========================>..] - ETA: 0s - loss: 18.4803 - mae: 3.6090INFO:tensorflow:Assets written to: models/assets\n",
      "800/800 [==============================] - 1s 2ms/sample - loss: 18.1747 - mae: 3.5720 - val_loss: 20.5490 - val_mae: 3.8039\n",
      "Epoch 26/50\n",
      "771/800 [===========================>..] - ETA: 0s - loss: 17.8951 - mae: 3.5453INFO:tensorflow:Assets written to: models/assets\n",
      "800/800 [==============================] - 2s 2ms/sample - loss: 17.7415 - mae: 3.5274 - val_loss: 20.0697 - val_mae: 3.7586\n",
      "Epoch 27/50\n",
      "794/800 [============================>.] - ETA: 0s - loss: 17.3088 - mae: 3.4821INFO:tensorflow:Assets written to: models/assets\n",
      "800/800 [==============================] - 2s 3ms/sample - loss: 17.3169 - mae: 3.4854 - val_loss: 19.5996 - val_mae: 3.7140\n",
      "Epoch 28/50\n",
      "777/800 [============================>.] - ETA: 0s - loss: 16.9497 - mae: 3.4483INFO:tensorflow:Assets written to: models/assets\n",
      "800/800 [==============================] - 2s 2ms/sample - loss: 16.9027 - mae: 3.4414 - val_loss: 19.1163 - val_mae: 3.6689\n",
      "Epoch 29/50\n",
      "758/800 [===========================>..] - ETA: 0s - loss: 16.1156 - mae: 3.3676INFO:tensorflow:Assets written to: models/assets\n",
      "800/800 [==============================] - 1s 2ms/sample - loss: 16.4947 - mae: 3.4022 - val_loss: 18.6676 - val_mae: 3.6245\n",
      "Epoch 30/50\n"
     ]
    },
    {
     "name": "stdout",
     "output_type": "stream",
     "text": [
      "766/800 [===========================>..] - ETA: 0s - loss: 16.3706 - mae: 3.3882INFO:tensorflow:Assets written to: models/assets\n",
      "800/800 [==============================] - 1s 2ms/sample - loss: 16.1004 - mae: 3.3604 - val_loss: 18.2255 - val_mae: 3.5810\n",
      "Epoch 31/50\n",
      "753/800 [===========================>..] - ETA: 0s - loss: 15.7695 - mae: 3.3229INFO:tensorflow:Assets written to: models/assets\n",
      "800/800 [==============================] - 1s 2ms/sample - loss: 15.7131 - mae: 3.3179 - val_loss: 17.7834 - val_mae: 3.5374\n",
      "Epoch 32/50\n",
      "768/800 [===========================>..] - ETA: 0s - loss: 15.1952 - mae: 3.2539INFO:tensorflow:Assets written to: models/assets\n",
      "800/800 [==============================] - 2s 2ms/sample - loss: 15.3342 - mae: 3.2773 - val_loss: 17.3487 - val_mae: 3.4944\n",
      "Epoch 33/50\n",
      "752/800 [===========================>..] - ETA: 0s - loss: 14.9023 - mae: 3.2337INFO:tensorflow:Assets written to: models/assets\n",
      "800/800 [==============================] - 1s 2ms/sample - loss: 14.9607 - mae: 3.2366 - val_loss: 16.9306 - val_mae: 3.4516\n",
      "Epoch 34/50\n",
      "772/800 [===========================>..] - ETA: 0s - loss: 14.3304 - mae: 3.1719INFO:tensorflow:Assets written to: models/assets\n",
      "800/800 [==============================] - 1s 2ms/sample - loss: 14.5900 - mae: 3.1969 - val_loss: 16.5208 - val_mae: 3.4088\n",
      "Epoch 35/50\n",
      "773/800 [===========================>..] - ETA: 0s - loss: 14.0350 - mae: 3.1341INFO:tensorflow:Assets written to: models/assets\n",
      "800/800 [==============================] - 1s 2ms/sample - loss: 14.2335 - mae: 3.1569 - val_loss: 16.1121 - val_mae: 3.3663\n",
      "Epoch 36/50\n",
      "760/800 [===========================>..] - ETA: 0s - loss: 13.8934 - mae: 3.1112INFO:tensorflow:Assets written to: models/assets\n",
      "800/800 [==============================] - 1s 2ms/sample - loss: 13.8831 - mae: 3.1153 - val_loss: 15.7179 - val_mae: 3.3246\n",
      "Epoch 37/50\n",
      "773/800 [===========================>..] - ETA: 0s - loss: 13.5009 - mae: 3.0704INFO:tensorflow:Assets written to: models/assets\n",
      "800/800 [==============================] - 2s 2ms/sample - loss: 13.5452 - mae: 3.0768 - val_loss: 15.3260 - val_mae: 3.2829\n",
      "Epoch 38/50\n",
      "755/800 [===========================>..] - ETA: 0s - loss: 13.1931 - mae: 3.0359INFO:tensorflow:Assets written to: models/assets\n",
      "800/800 [==============================] - 1s 2ms/sample - loss: 13.2102 - mae: 3.0380 - val_loss: 14.9548 - val_mae: 3.2422\n",
      "Epoch 39/50\n",
      "789/800 [============================>.] - ETA: 0s - loss: 12.9133 - mae: 3.0002INFO:tensorflow:Assets written to: models/assets\n",
      "800/800 [==============================] - 2s 2ms/sample - loss: 12.8839 - mae: 3.0005 - val_loss: 14.5829 - val_mae: 3.2014\n",
      "Epoch 40/50\n",
      "795/800 [============================>.] - ETA: 0s - loss: 12.5582 - mae: 2.9590INFO:tensorflow:Assets written to: models/assets\n",
      "800/800 [==============================] - 2s 2ms/sample - loss: 12.5629 - mae: 2.9608 - val_loss: 14.2246 - val_mae: 3.1608\n",
      "Epoch 41/50\n",
      "785/800 [============================>.] - ETA: 0s - loss: 12.1997 - mae: 2.9209INFO:tensorflow:Assets written to: models/assets\n",
      "800/800 [==============================] - 2s 2ms/sample - loss: 12.2519 - mae: 2.9234 - val_loss: 13.8682 - val_mae: 3.1207\n",
      "Epoch 42/50\n",
      "797/800 [============================>.] - ETA: 0s - loss: 11.9510 - mae: 2.8870INFO:tensorflow:Assets written to: models/assets\n",
      "800/800 [==============================] - 1s 2ms/sample - loss: 11.9460 - mae: 2.8868 - val_loss: 13.5250 - val_mae: 3.0807\n",
      "Epoch 43/50\n",
      "760/800 [===========================>..] - ETA: 0s - loss: 11.6260 - mae: 2.8451INFO:tensorflow:Assets written to: models/assets\n",
      "800/800 [==============================] - 2s 2ms/sample - loss: 11.6482 - mae: 2.8496 - val_loss: 13.1873 - val_mae: 3.0412\n",
      "Epoch 44/50\n",
      "798/800 [============================>.] - ETA: 0s - loss: 11.3295 - mae: 2.8068INFO:tensorflow:Assets written to: models/assets\n",
      "800/800 [==============================] - 1s 2ms/sample - loss: 11.3546 - mae: 2.8113 - val_loss: 12.8542 - val_mae: 3.0017\n",
      "Epoch 45/50\n",
      "785/800 [============================>.] - ETA: 0s - loss: 11.0791 - mae: 2.7782INFO:tensorflow:Assets written to: models/assets\n",
      "800/800 [==============================] - 1s 1ms/sample - loss: 11.0673 - mae: 2.7748 - val_loss: 12.5252 - val_mae: 2.9624\n",
      "Epoch 46/50\n",
      "750/800 [===========================>..] - ETA: 0s - loss: 10.9461 - mae: 2.7562INFO:tensorflow:Assets written to: models/assets\n",
      "800/800 [==============================] - 1s 2ms/sample - loss: 10.7869 - mae: 2.7393 - val_loss: 12.2099 - val_mae: 2.9236\n",
      "Epoch 47/50\n",
      "791/800 [============================>.] - ETA: 0s - loss: 10.5382 - mae: 2.7053INFO:tensorflow:Assets written to: models/assets\n",
      "800/800 [==============================] - 1s 2ms/sample - loss: 10.5161 - mae: 2.7037 - val_loss: 11.8986 - val_mae: 2.8850\n",
      "Epoch 48/50\n",
      "761/800 [===========================>..] - ETA: 0s - loss: 10.0916 - mae: 2.6491INFO:tensorflow:Assets written to: models/assets\n",
      "800/800 [==============================] - 1s 2ms/sample - loss: 10.2492 - mae: 2.6686 - val_loss: 11.5980 - val_mae: 2.8465\n",
      "Epoch 49/50\n",
      "775/800 [============================>.] - ETA: 0s - loss: 9.9644 - mae: 2.6256INFO:tensorflow:Assets written to: models/assets\n",
      "800/800 [==============================] - 2s 2ms/sample - loss: 9.9865 - mae: 2.6325 - val_loss: 11.2961 - val_mae: 2.8087\n",
      "Epoch 50/50\n",
      "772/800 [===========================>..] - ETA: 0s - loss: 9.7561 - mae: 2.5978INFO:tensorflow:Assets written to: models/assets\n",
      "800/800 [==============================] - 1s 2ms/sample - loss: 9.7318 - mae: 2.5976 - val_loss: 11.0027 - val_mae: 2.7715\n"
     ]
    },
    {
     "data": {
      "text/plain": [
       "<tensorflow.python.keras.callbacks.History at 0x250e3f83088>"
      ]
     },
     "execution_count": 12,
     "metadata": {},
     "output_type": "execute_result"
    }
   ],
   "source": [
    "model.fit(X_train, y_train, batch_size=1, epochs=50, validation_data=(X_test,y_test), callbacks=cbList)"
   ]
  },
  {
   "cell_type": "code",
   "execution_count": 13,
   "metadata": {},
   "outputs": [],
   "source": [
    "predictions = model.predict(X_test)"
   ]
  },
  {
   "cell_type": "code",
   "execution_count": 14,
   "metadata": {},
   "outputs": [
    {
     "name": "stdout",
     "output_type": "stream",
     "text": [
      "200/200 [==============================] - 0s 334us/sample - loss: 11.0027 - mae: 2.7715\n"
     ]
    },
    {
     "data": {
      "text/plain": [
       "[11.002664794921875, 2.7714777]"
      ]
     },
     "execution_count": 14,
     "metadata": {},
     "output_type": "execute_result"
    }
   ],
   "source": [
    "model.evaluate(X_test, y_test)"
   ]
  }
 ],
 "metadata": {
  "kernelspec": {
   "display_name": "Python 3",
   "language": "python",
   "name": "python3"
  },
  "language_info": {
   "codemirror_mode": {
    "name": "ipython",
    "version": 3
   },
   "file_extension": ".py",
   "mimetype": "text/x-python",
   "name": "python",
   "nbconvert_exporter": "python",
   "pygments_lexer": "ipython3",
   "version": "3.7.6"
  }
 },
 "nbformat": 4,
 "nbformat_minor": 4
}
