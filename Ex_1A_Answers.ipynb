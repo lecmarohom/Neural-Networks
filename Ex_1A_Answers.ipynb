{
 "cells": [
  {
   "cell_type": "markdown",
   "metadata": {},
   "source": [
    "## Exercise 1A: Gradient Descent\n",
    "#### Marohom, Alec Louie A. | 2019190226"
   ]
  },
  {
   "cell_type": "markdown",
   "metadata": {},
   "source": [
    "#### Instructions:\n",
    "Using gradient descent, train a linear regressor to solve the function Ax + By + C with 150 random samples (0-1) for x and y using the mean absolute error objective/loss function. Then, perform the following task and questions below. Feel free to use the Gradient Descent example notebook as reference. Submit the notebook and this document containing the answers."
   ]
  },
  {
   "cell_type": "code",
   "execution_count": 1,
   "metadata": {},
   "outputs": [],
   "source": [
    "import random\n",
    "import pandas as pd"
   ]
  },
  {
   "cell_type": "code",
   "execution_count": 2,
   "metadata": {},
   "outputs": [],
   "source": [
    "def fxn(x,y,):\n",
    "    return (1*x) + ((12)*y) + 13\n",
    "\n",
    "def get_error(x, y, z):\n",
    "    P = get_answer(x, y)\n",
    "    #error = (P - z)**2 --------------- square distance\n",
    "    #error = abs(P - z) / nSamples # --------------- MAE ( https://www.statisticshowto.com/absolute-error/ )\n",
    "    error = abs(P - z) / 1 # --------------- single point reference MAE\n",
    "    return error\n",
    "\n",
    "def get_answer(x, y):\n",
    "    return m1 * x + m2 * y + b\n",
    "\n",
    "def update_values(x, y, z):\n",
    "    global m1, m2, b\n",
    "    P = get_answer(x, y)\n",
    "    \n",
    "    # Compute the Gradients\n",
    "    #factor = 2 * (P - z) # --------------- derivative of (P-z)^2\n",
    "    factor = (P - z)/abs(P - z) # --------------- derivative of abs(P-z)\n",
    "    dm1 = factor * x\n",
    "    dm2 = factor * y\n",
    "    db = factor\n",
    "    \n",
    "    # Update values\n",
    "    m1 = m1 - dm1 * lr\n",
    "    m2 = m2 - dm2 * lr\n",
    "    b = b - db * lr"
   ]
  },
  {
   "cell_type": "markdown",
   "metadata": {},
   "source": [
    "### --------------------- Input"
   ]
  },
  {
   "cell_type": "code",
   "execution_count": 3,
   "metadata": {},
   "outputs": [
    {
     "name": "stdout",
     "output_type": "stream",
     "text": [
      "Learning Rate:  0.01\n",
      "Number of Sample Data:  150\n",
      "Correct Output:  f(x) = 1x + 12y + 13\n"
     ]
    }
   ],
   "source": [
    "lr = 0.01\n",
    "nSamples = 150\n",
    "altXY = False\n",
    "newXY = 0\n",
    "\n",
    "a = 1 #Alec\n",
    "c = 13 #Marohom\n",
    "b = c - a\n",
    "\n",
    "correctAns = 'f(x) = '+ str(a) + 'x + ' + str(b) + 'y + ' + str(c)\n",
    "\n",
    "print('Learning Rate: ',lr)\n",
    "print('Number of Sample Data: ',nSamples)\n",
    "print('Correct Output: ', correctAns)"
   ]
  },
  {
   "cell_type": "markdown",
   "metadata": {},
   "source": [
    "### --------------------- Data Generation"
   ]
  },
  {
   "cell_type": "code",
   "execution_count": 4,
   "metadata": {},
   "outputs": [
    {
     "data": {
      "text/plain": [
       "[(0.035939080649010635, 0.1691025824177762, 15.065170069662326),\n",
       " (0.32657221517270474, 0.02913402765726636, 13.676180547059902),\n",
       " (0.986499183735939, 0.3264795062309501, 17.90425325850734),\n",
       " (0.544900844629249, 0.6245296183436426, 21.03925626475296),\n",
       " (0.25771915335947926, 0.04561709203717568, 13.805124257805588),\n",
       " (0.6459457933128354, 0.06159991891599048, 14.38514482030472),\n",
       " (0.7026205599898363, 0.4560446865437383, 19.175156798514696),\n",
       " (0.9956206947153087, 0.8195158511034335, 23.82981090795651),\n",
       " (0.9609614572701085, 0.5109718408247843, 20.09262354716752),\n",
       " (0.711967849088527, 0.4004520690068534, 18.51739267717077)]"
      ]
     },
     "execution_count": 4,
     "metadata": {},
     "output_type": "execute_result"
    }
   ],
   "source": [
    "x = [random.random() for _ in range(nSamples)] # input 1\n",
    "y = [random.random() for _ in range(nSamples)] # input 2\n",
    "z = [fxn(x_, y_) for x_, y_ in zip(x, y)] # f(x,y)\n",
    "data = list(zip(x, y, z))\n",
    "data[0:10]"
   ]
  },
  {
   "cell_type": "code",
   "execution_count": 5,
   "metadata": {},
   "outputs": [],
   "source": [
    "if altXY:\n",
    "    newx = ((pd.Series(x))*newXY).tolist()\n",
    "    newy = ((pd.Series(y))*newXY).tolist()\n",
    "    newz = [fxn(newx_, newy_) for newx_, newy_ in zip(newx, newy)] # f(x,y)\n",
    "    newdata = list(zip(newx, newy, newz))\n",
    "    newdata[0:10]"
   ]
  },
  {
   "cell_type": "code",
   "execution_count": 6,
   "metadata": {},
   "outputs": [
    {
     "name": "stdout",
     "output_type": "stream",
     "text": [
      "0.49631554639011466 0.36405511175387917 0.5491214160347623\n"
     ]
    }
   ],
   "source": [
    "# ----- Random Starting Point\n",
    "m1 = random.random()\n",
    "m2 = random.random()\n",
    "b = random.random()\n",
    "\n",
    "print(m1,m2,b)"
   ]
  },
  {
   "cell_type": "markdown",
   "metadata": {},
   "source": [
    "### --------------------- Checking"
   ]
  },
  {
   "cell_type": "code",
   "execution_count": 7,
   "metadata": {},
   "outputs": [
    {
     "name": "stdout",
     "output_type": "stream",
     "text": [
      "0.6285212000238074 15.065170069662326\n"
     ]
    }
   ],
   "source": [
    "x_, y_, z_ = data[0]\n",
    "print(get_answer(x_, y_), z_)"
   ]
  },
  {
   "cell_type": "code",
   "execution_count": 8,
   "metadata": {},
   "outputs": [
    {
     "data": {
      "text/plain": [
       "14.436648869638518"
      ]
     },
     "execution_count": 8,
     "metadata": {},
     "output_type": "execute_result"
    }
   ],
   "source": [
    "get_error(x_, y_, z_)"
   ]
  },
  {
   "cell_type": "markdown",
   "metadata": {},
   "source": [
    "### --------------------- Process"
   ]
  },
  {
   "cell_type": "code",
   "execution_count": 9,
   "metadata": {
    "scrolled": true
   },
   "outputs": [],
   "source": [
    "roundCount = 0\n",
    "for _ in range(500):\n",
    "    roundCount = roundCount+1\n",
    "    for x_, y_, z_ in data:\n",
    "        pred = get_answer(x_, y_)\n",
    "        err = get_error(x_, y_, z_)\n",
    "        update_values(x_, y_, z_)\n",
    "        coefError = [abs(m1-1),abs(m2-12),abs(b-13)]\n",
    "        if (coefError[0]<=0.001) & (coefError[1]<=0.001) & (coefError[2]<=0.001):\n",
    "            break\n",
    "    #print('Error: \\t\\t', err)\n",
    "    if (coefError[0]<=0.001) & (coefError[1]<=0.001) & (coefError[2]<=0.001):\n",
    "        break"
   ]
  },
  {
   "cell_type": "markdown",
   "metadata": {},
   "source": [
    "### --------------------- Output"
   ]
  },
  {
   "cell_type": "code",
   "execution_count": 10,
   "metadata": {},
   "outputs": [
    {
     "name": "stdout",
     "output_type": "stream",
     "text": [
      "Correct Output:  f(x) = 1x + 12y + 13\n",
      "Final Output:  0.9997433164295795 11.999011761547042 12.99912141603453\n",
      "Error:  0.01206870349422573\n",
      "Coef Error:  [0.0002566835704205239, 0.0009882384529582566, 0.0008785839654699146]\n",
      "Round Count:  31\n"
     ]
    }
   ],
   "source": [
    "print('Correct Output: ', correctAns)\n",
    "print('Final Output: ', m1, m2, b)\n",
    "print('Error: ', err)\n",
    "print('Coef Error: ',coefError)\n",
    "print('Round Count: ',roundCount)"
   ]
  }
 ],
 "metadata": {
  "kernelspec": {
   "display_name": "Python 3",
   "language": "python",
   "name": "python3"
  },
  "language_info": {
   "codemirror_mode": {
    "name": "ipython",
    "version": 3
   },
   "file_extension": ".py",
   "mimetype": "text/x-python",
   "name": "python",
   "nbconvert_exporter": "python",
   "pygments_lexer": "ipython3",
   "version": "3.7.6"
  }
 },
 "nbformat": 4,
 "nbformat_minor": 4
}
