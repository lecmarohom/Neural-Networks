{
 "cells": [
  {
   "cell_type": "markdown",
   "metadata": {},
   "source": [
    "## Exercise 1B: Keras and Dense Networks\n"
   ]
  },
  {
   "cell_type": "markdown",
   "metadata": {},
   "source": [
    "#### Instructions:\n",
    "Using Keras, train a network to solve a non-linear function Ax^2 + By^2 + Cz^2 + D. Generate 1000 random samples (0-1) using 20% of the data for a test set. Generate a check point at each epoch and use early stopping [1] to determine when the training should stop. Use the appropriate loss function for the problem. You can use the Keras and Deep Dense Networks notebooks as reference. Submit the notebooks (b, c, d) and this document containing the answers."
   ]
  },
  {
   "cell_type": "markdown",
   "metadata": {},
   "source": [
    "Note:\n",
    "[1]: This means you need a validation data. It’s up to you to select the validation split that works for you."
   ]
  },
  {
   "cell_type": "markdown",
   "metadata": {},
   "source": [
    "d.\tFrom b, make all of the activations into linear. What is the mean absolute error for the test set?"
   ]
  },
  {
   "cell_type": "code",
   "execution_count": 1,
   "metadata": {},
   "outputs": [],
   "source": [
    "import numpy as np\n",
    "import pandas as pd\n",
    "import tensorflow as tf\n",
    "import random\n",
    "from sklearn.model_selection import train_test_split as tts"
   ]
  },
  {
   "cell_type": "code",
   "execution_count": 2,
   "metadata": {},
   "outputs": [],
   "source": [
    "a = 1 #Alec \n",
    "c = 13 #Marohom\n",
    "b = c - a\n",
    "d = -b\n",
    "\n",
    "nSamples = 1000"
   ]
  },
  {
   "cell_type": "code",
   "execution_count": 3,
   "metadata": {},
   "outputs": [],
   "source": [
    "def fxn(x, y, z):\n",
    "    return (a*(x**2)) + (b*(y**2)) + (c*(z**2)) + d"
   ]
  },
  {
   "cell_type": "markdown",
   "metadata": {},
   "source": [
    "    datalist = np.random.rand(1000, 3) # random data generated\n",
    "    data1b = pd.DataFrame(datalist, columns=['X','Y','Z'])\n",
    "    data1b.to_csv('ex_1B_data.csv', index=False)"
   ]
  },
  {
   "cell_type": "code",
   "execution_count": 4,
   "metadata": {},
   "outputs": [],
   "source": [
    "datadf = pd.read_csv('ex_1B_data.csv')\n",
    "X = datadf.values"
   ]
  },
  {
   "cell_type": "code",
   "execution_count": 5,
   "metadata": {},
   "outputs": [],
   "source": [
    "X_train, X_test = tts(X, random_state=2020, test_size=0.2)"
   ]
  },
  {
   "cell_type": "code",
   "execution_count": 6,
   "metadata": {},
   "outputs": [],
   "source": [
    "y_train = fxn(X_train[:,0],X_train[:,1],X_train[:,2])\n",
    "y_test = fxn(X_test[:,0],X_test[:,1],X_test[:,2])"
   ]
  },
  {
   "cell_type": "code",
   "execution_count": 7,
   "metadata": {},
   "outputs": [],
   "source": [
    "input_ = tf.keras.layers.Input(shape=(3,)) # input shape\n",
    "\n",
    "dense1 = tf.keras.layers.Dense(500, activation='linear')(input_)\n",
    "dense2 = tf.keras.layers.Dense(500, activation='linear')(dense1)\n",
    "\n",
    "output = tf.keras.layers.Dense(1)(dense2)"
   ]
  },
  {
   "cell_type": "code",
   "execution_count": 8,
   "metadata": {},
   "outputs": [],
   "source": [
    "model = tf.keras.Model(inputs=input_, outputs=output)"
   ]
  },
  {
   "cell_type": "code",
   "execution_count": 9,
   "metadata": {},
   "outputs": [],
   "source": [
    "class EarlyStoppingAt(tf.keras.callbacks.Callback):\n",
    "    def __init__(self, monitor='val_loss', value=0.00001, verbose=0):\n",
    "        super(tf.keras.callbacks.Callback, self).__init__()\n",
    "        self.monitor = monitor\n",
    "        self.value = value\n",
    "        self.verbose = verbose\n",
    "\n",
    "    def on_epoch_end(self, epoch, logs={}):\n",
    "        if logs.get(self.monitor) <= self.value:\n",
    "            self.model.stop_training = True"
   ]
  },
  {
   "cell_type": "code",
   "execution_count": 10,
   "metadata": {},
   "outputs": [],
   "source": [
    "filepath = r'models/'\n",
    "\n",
    "cbList = [\n",
    "    EarlyStoppingAt(monitor='val_loss', value=0.01),\n",
    "    #tf.keras.callbacks.EarlyStopping(monitor='val_loss', mode='min', min_delta=0.01, patience=5)\n",
    "    tf.keras.callbacks.ModelCheckpoint(filepath, monitor='val_loss',save_freq='epoch')\n",
    "         ]"
   ]
  },
  {
   "cell_type": "code",
   "execution_count": 11,
   "metadata": {},
   "outputs": [],
   "source": [
    "model.compile('adam', loss='mse', metrics=['mae'])"
   ]
  },
  {
   "cell_type": "code",
   "execution_count": 12,
   "metadata": {
    "scrolled": false
   },
   "outputs": [
    {
     "name": "stdout",
     "output_type": "stream",
     "text": [
      "Train on 800 samples, validate on 200 samples\n",
      "Epoch 1/50\n",
      "792/800 [============================>.] - ETA: 0s - loss: 7.6406 - mae: 1.9849WARNING:tensorflow:From C:\\Users\\Alec\\anaconda3\\lib\\site-packages\\tensorflow_core\\python\\ops\\resource_variable_ops.py:1786: calling BaseResourceVariable.__init__ (from tensorflow.python.ops.resource_variable_ops) with constraint is deprecated and will be removed in a future version.\n",
      "Instructions for updating:\n",
      "If using Keras pass *_constraint arguments to layers.\n",
      "INFO:tensorflow:Assets written to: models/assets\n",
      "800/800 [==============================] - 3s 4ms/sample - loss: 7.5798 - mae: 1.9754 - val_loss: 2.1082 - val_mae: 1.1737\n",
      "Epoch 2/50\n",
      "776/800 [============================>.] - ETA: 0s - loss: 2.4768 - mae: 1.2672INFO:tensorflow:Assets written to: models/assets\n",
      "800/800 [==============================] - 2s 3ms/sample - loss: 2.4938 - mae: 1.2748 - val_loss: 2.2956 - val_mae: 1.2183\n",
      "Epoch 3/50\n",
      "775/800 [============================>.] - ETA: 0s - loss: 2.3892 - mae: 1.2505INFO:tensorflow:Assets written to: models/assets\n",
      "800/800 [==============================] - 2s 3ms/sample - loss: 2.3868 - mae: 1.2485 - val_loss: 1.9658 - val_mae: 1.1791\n",
      "Epoch 4/50\n",
      "772/800 [===========================>..] - ETA: 0s - loss: 2.3679 - mae: 1.2591INFO:tensorflow:Assets written to: models/assets\n",
      "800/800 [==============================] - 2s 3ms/sample - loss: 2.3716 - mae: 1.2618 - val_loss: 2.0889 - val_mae: 1.1607\n",
      "Epoch 5/50\n",
      "792/800 [============================>.] - ETA: 0s - loss: 2.1957 - mae: 1.2132INFO:tensorflow:Assets written to: models/assets\n",
      "800/800 [==============================] - 3s 3ms/sample - loss: 2.1902 - mae: 1.2125 - val_loss: 2.1100 - val_mae: 1.1665\n",
      "Epoch 6/50\n",
      "794/800 [============================>.] - ETA: 0s - loss: 2.3785 - mae: 1.2732INFO:tensorflow:Assets written to: models/assets\n",
      "800/800 [==============================] - 3s 3ms/sample - loss: 2.3915 - mae: 1.2762 - val_loss: 1.9886 - val_mae: 1.1968\n",
      "Epoch 7/50\n",
      "799/800 [============================>.] - ETA: 0s - loss: 2.2834 - mae: 1.2323INFO:tensorflow:Assets written to: models/assets\n",
      "800/800 [==============================] - 3s 3ms/sample - loss: 2.2823 - mae: 1.2323 - val_loss: 2.1025 - val_mae: 1.2074\n",
      "Epoch 8/50\n",
      "781/800 [============================>.] - ETA: 0s - loss: 2.3698 - mae: 1.2471INFO:tensorflow:Assets written to: models/assets\n",
      "800/800 [==============================] - 2s 3ms/sample - loss: 2.3839 - mae: 1.2502 - val_loss: 1.9143 - val_mae: 1.1128\n",
      "Epoch 9/50\n",
      "770/800 [===========================>..] - ETA: 0s - loss: 2.2043 - mae: 1.2128INFO:tensorflow:Assets written to: models/assets\n",
      "800/800 [==============================] - 2s 3ms/sample - loss: 2.2439 - mae: 1.2257 - val_loss: 4.2471 - val_mae: 1.7937\n",
      "Epoch 10/50\n",
      "774/800 [============================>.] - ETA: 0s - loss: 2.1540 - mae: 1.1862INFO:tensorflow:Assets written to: models/assets\n",
      "800/800 [==============================] - 2s 3ms/sample - loss: 2.1610 - mae: 1.1896 - val_loss: 3.1308 - val_mae: 1.4816\n",
      "Epoch 11/50\n",
      "795/800 [============================>.] - ETA: 0s - loss: 2.2074 - mae: 1.2166INFO:tensorflow:Assets written to: models/assets\n",
      "800/800 [==============================] - 2s 3ms/sample - loss: 2.1996 - mae: 1.2144 - val_loss: 2.1044 - val_mae: 1.1739\n",
      "Epoch 12/50\n",
      "771/800 [===========================>..] - ETA: 0s - loss: 2.1715 - mae: 1.2300INFO:tensorflow:Assets written to: models/assets\n",
      "800/800 [==============================] - 2s 3ms/sample - loss: 2.1504 - mae: 1.2225 - val_loss: 1.7983 - val_mae: 1.0959\n",
      "Epoch 13/50\n",
      "798/800 [============================>.] - ETA: 0s - loss: 2.2635 - mae: 1.2425INFO:tensorflow:Assets written to: models/assets\n",
      "800/800 [==============================] - 2s 3ms/sample - loss: 2.2711 - mae: 1.2450 - val_loss: 3.0499 - val_mae: 1.4703\n",
      "Epoch 14/50\n",
      "789/800 [============================>.] - ETA: 0s - loss: 2.1731 - mae: 1.1999INFO:tensorflow:Assets written to: models/assets\n",
      "800/800 [==============================] - 2s 3ms/sample - loss: 2.1843 - mae: 1.2046 - val_loss: 2.2661 - val_mae: 1.2850\n",
      "Epoch 15/50\n",
      "780/800 [============================>.] - ETA: 0s - loss: 2.2032 - mae: 1.2173INFO:tensorflow:Assets written to: models/assets\n",
      "800/800 [==============================] - 2s 3ms/sample - loss: 2.1920 - mae: 1.2161 - val_loss: 1.8946 - val_mae: 1.1092\n",
      "Epoch 16/50\n",
      "781/800 [============================>.] - ETA: 0s - loss: 2.1228 - mae: 1.2042INFO:tensorflow:Assets written to: models/assets\n",
      "800/800 [==============================] - 2s 3ms/sample - loss: 2.1295 - mae: 1.2050 - val_loss: 2.0204 - val_mae: 1.2048\n",
      "Epoch 17/50\n",
      "799/800 [============================>.] - ETA: 0s - loss: 2.0500 - mae: 1.1862INFO:tensorflow:Assets written to: models/assets\n",
      "800/800 [==============================] - 2s 3ms/sample - loss: 2.0478 - mae: 1.1853 - val_loss: 2.5124 - val_mae: 1.3547\n",
      "Epoch 18/50\n",
      "787/800 [============================>.] - ETA: 0s - loss: 2.1190 - mae: 1.1886INFO:tensorflow:Assets written to: models/assets\n",
      "800/800 [==============================] - 2s 3ms/sample - loss: 2.1195 - mae: 1.1895 - val_loss: 2.2300 - val_mae: 1.2296\n",
      "Epoch 19/50\n",
      "788/800 [============================>.] - ETA: 0s - loss: 2.1618 - mae: 1.2208INFO:tensorflow:Assets written to: models/assets\n",
      "800/800 [==============================] - 2s 3ms/sample - loss: 2.1604 - mae: 1.2223 - val_loss: 1.8264 - val_mae: 1.1284\n",
      "Epoch 20/50\n",
      "795/800 [============================>.] - ETA: 0s - loss: 2.0792 - mae: 1.1855INFO:tensorflow:Assets written to: models/assets\n",
      "800/800 [==============================] - 2s 3ms/sample - loss: 2.0676 - mae: 1.1807 - val_loss: 2.4616 - val_mae: 1.2573\n",
      "Epoch 21/50\n",
      "774/800 [============================>.] - ETA: 0s - loss: 2.1527 - mae: 1.2210INFO:tensorflow:Assets written to: models/assets\n",
      "800/800 [==============================] - 2s 3ms/sample - loss: 2.1778 - mae: 1.2277 - val_loss: 1.7670 - val_mae: 1.1045\n",
      "Epoch 22/50\n",
      "782/800 [============================>.] - ETA: 0s - loss: 2.1015 - mae: 1.1831INFO:tensorflow:Assets written to: models/assets\n",
      "800/800 [==============================] - 2s 3ms/sample - loss: 2.1110 - mae: 1.1878 - val_loss: 2.1038 - val_mae: 1.2269\n",
      "Epoch 23/50\n",
      "799/800 [============================>.] - ETA: 0s - loss: 2.0751 - mae: 1.1824INFO:tensorflow:Assets written to: models/assets\n",
      "800/800 [==============================] - 2s 3ms/sample - loss: 2.0729 - mae: 1.1815 - val_loss: 1.7505 - val_mae: 1.0895\n",
      "Epoch 24/50\n",
      "797/800 [============================>.] - ETA: 0s - loss: 2.1056 - mae: 1.1906INFO:tensorflow:Assets written to: models/assets\n",
      "800/800 [==============================] - 2s 3ms/sample - loss: 2.0988 - mae: 1.1881 - val_loss: 1.7907 - val_mae: 1.0988\n",
      "Epoch 25/50\n",
      "775/800 [============================>.] - ETA: 0s - loss: 2.1098 - mae: 1.1983INFO:tensorflow:Assets written to: models/assets\n",
      "800/800 [==============================] - 2s 3ms/sample - loss: 2.1098 - mae: 1.1992 - val_loss: 1.8513 - val_mae: 1.1381\n",
      "Epoch 26/50\n",
      "799/800 [============================>.] - ETA: 0s - loss: 2.1176 - mae: 1.1960INFO:tensorflow:Assets written to: models/assets\n",
      "800/800 [==============================] - 2s 3ms/sample - loss: 2.1161 - mae: 1.1957 - val_loss: 1.7817 - val_mae: 1.0940\n",
      "Epoch 27/50\n",
      "798/800 [============================>.] - ETA: 0s - loss: 2.0575 - mae: 1.1865INFO:tensorflow:Assets written to: models/assets\n",
      "800/800 [==============================] - 2s 3ms/sample - loss: 2.0553 - mae: 1.1858 - val_loss: 2.0998 - val_mae: 1.1589\n",
      "Epoch 28/50\n",
      "782/800 [============================>.] - ETA: 0s - loss: 2.1043 - mae: 1.1940INFO:tensorflow:Assets written to: models/assets\n",
      "800/800 [==============================] - 2s 3ms/sample - loss: 2.0801 - mae: 1.1874 - val_loss: 3.1379 - val_mae: 1.3433\n",
      "Epoch 29/50\n",
      "782/800 [============================>.] - ETA: 0s - loss: 2.0659 - mae: 1.1940INFO:tensorflow:Assets written to: models/assets\n",
      "800/800 [==============================] - 2s 3ms/sample - loss: 2.0509 - mae: 1.1895 - val_loss: 1.8137 - val_mae: 1.1204\n",
      "Epoch 30/50\n",
      "799/800 [============================>.] - ETA: 0s - loss: 2.0477 - mae: 1.1928INFO:tensorflow:Assets written to: models/assets\n",
      "800/800 [==============================] - 2s 3ms/sample - loss: 2.0490 - mae: 1.1935 - val_loss: 2.0843 - val_mae: 1.1932\n"
     ]
    },
    {
     "name": "stdout",
     "output_type": "stream",
     "text": [
      "Epoch 31/50\n",
      "778/800 [============================>.] - ETA: 0s - loss: 2.0569 - mae: 1.2037INFO:tensorflow:Assets written to: models/assets\n",
      "800/800 [==============================] - 2s 3ms/sample - loss: 2.0730 - mae: 1.2086 - val_loss: 1.9624 - val_mae: 1.1354\n",
      "Epoch 32/50\n",
      "779/800 [============================>.] - ETA: 0s - loss: 2.0571 - mae: 1.1869INFO:tensorflow:Assets written to: models/assets\n",
      "800/800 [==============================] - 2s 3ms/sample - loss: 2.0641 - mae: 1.1892 - val_loss: 1.7665 - val_mae: 1.0833\n",
      "Epoch 33/50\n",
      "780/800 [============================>.] - ETA: 0s - loss: 2.0266 - mae: 1.1622INFO:tensorflow:Assets written to: models/assets\n",
      "800/800 [==============================] - 2s 3ms/sample - loss: 2.0309 - mae: 1.1643 - val_loss: 3.3992 - val_mae: 1.5576\n",
      "Epoch 34/50\n",
      "796/800 [============================>.] - ETA: 0s - loss: 2.0149 - mae: 1.1825INFO:tensorflow:Assets written to: models/assets\n",
      "800/800 [==============================] - 2s 3ms/sample - loss: 2.0173 - mae: 1.1833 - val_loss: 2.5790 - val_mae: 1.2743\n",
      "Epoch 35/50\n",
      "791/800 [============================>.] - ETA: 0s - loss: 2.1088 - mae: 1.1994INFO:tensorflow:Assets written to: models/assets\n",
      "800/800 [==============================] - 2s 3ms/sample - loss: 2.0969 - mae: 1.1963 - val_loss: 1.8827 - val_mae: 1.1114\n",
      "Epoch 36/50\n",
      "776/800 [============================>.] - ETA: 0s - loss: 2.0161 - mae: 1.1763INFO:tensorflow:Assets written to: models/assets\n",
      "800/800 [==============================] - 2s 3ms/sample - loss: 2.0243 - mae: 1.1802 - val_loss: 1.7961 - val_mae: 1.1220\n",
      "Epoch 37/50\n",
      "797/800 [============================>.] - ETA: 0s - loss: 2.0108 - mae: 1.1690INFO:tensorflow:Assets written to: models/assets\n",
      "800/800 [==============================] - 2s 3ms/sample - loss: 2.0128 - mae: 1.1699 - val_loss: 1.8356 - val_mae: 1.1088\n",
      "Epoch 38/50\n",
      "780/800 [============================>.] - ETA: 0s - loss: 2.0523 - mae: 1.1806INFO:tensorflow:Assets written to: models/assets\n",
      "800/800 [==============================] - 2s 3ms/sample - loss: 2.0514 - mae: 1.1826 - val_loss: 1.8005 - val_mae: 1.0929\n",
      "Epoch 39/50\n",
      "794/800 [============================>.] - ETA: 0s - loss: 2.1404 - mae: 1.2016INFO:tensorflow:Assets written to: models/assets\n",
      "800/800 [==============================] - 2s 3ms/sample - loss: 2.1360 - mae: 1.2009 - val_loss: 1.7408 - val_mae: 1.0867\n",
      "Epoch 40/50\n",
      "790/800 [============================>.] - ETA: 0s - loss: 2.0151 - mae: 1.1746INFO:tensorflow:Assets written to: models/assets\n",
      "800/800 [==============================] - 2s 3ms/sample - loss: 2.0158 - mae: 1.1747 - val_loss: 1.9281 - val_mae: 1.1466\n",
      "Epoch 41/50\n",
      "793/800 [============================>.] - ETA: 0s - loss: 1.9926 - mae: 1.1684INFO:tensorflow:Assets written to: models/assets\n",
      "800/800 [==============================] - 2s 3ms/sample - loss: 2.0115 - mae: 1.1731 - val_loss: 2.4820 - val_mae: 1.3462\n",
      "Epoch 42/50\n",
      "798/800 [============================>.] - ETA: 0s - loss: 2.0320 - mae: 1.1686INFO:tensorflow:Assets written to: models/assets\n",
      "800/800 [==============================] - 2s 3ms/sample - loss: 2.0347 - mae: 1.1701 - val_loss: 1.7707 - val_mae: 1.0884\n",
      "Epoch 43/50\n",
      "779/800 [============================>.] - ETA: 0s - loss: 2.0121 - mae: 1.1735INFO:tensorflow:Assets written to: models/assets\n",
      "800/800 [==============================] - 2s 3ms/sample - loss: 2.0084 - mae: 1.1751 - val_loss: 1.7793 - val_mae: 1.0850\n",
      "Epoch 44/50\n",
      "795/800 [============================>.] - ETA: 0s - loss: 2.0208 - mae: 1.1744INFO:tensorflow:Assets written to: models/assets\n",
      "800/800 [==============================] - 2s 3ms/sample - loss: 2.0287 - mae: 1.1769 - val_loss: 1.7690 - val_mae: 1.1113\n",
      "Epoch 45/50\n",
      "797/800 [============================>.] - ETA: 0s - loss: 1.9531 - mae: 1.1475INFO:tensorflow:Assets written to: models/assets\n",
      "800/800 [==============================] - 2s 3ms/sample - loss: 1.9465 - mae: 1.1448 - val_loss: 2.1054 - val_mae: 1.2244\n",
      "Epoch 46/50\n",
      "789/800 [============================>.] - ETA: 0s - loss: 2.0136 - mae: 1.1778INFO:tensorflow:Assets written to: models/assets\n",
      "800/800 [==============================] - 2s 3ms/sample - loss: 2.0119 - mae: 1.1779 - val_loss: 1.8613 - val_mae: 1.1052\n",
      "Epoch 47/50\n",
      "791/800 [============================>.] - ETA: 0s - loss: 2.0541 - mae: 1.1950INFO:tensorflow:Assets written to: models/assets\n",
      "800/800 [==============================] - 2s 3ms/sample - loss: 2.0482 - mae: 1.1919 - val_loss: 1.7517 - val_mae: 1.0984\n",
      "Epoch 48/50\n",
      "780/800 [============================>.] - ETA: 0s - loss: 2.0005 - mae: 1.1735INFO:tensorflow:Assets written to: models/assets\n",
      "800/800 [==============================] - 2s 3ms/sample - loss: 2.0108 - mae: 1.1787 - val_loss: 2.1916 - val_mae: 1.2538\n",
      "Epoch 49/50\n",
      "785/800 [============================>.] - ETA: 0s - loss: 1.9997 - mae: 1.1711INFO:tensorflow:Assets written to: models/assets\n",
      "800/800 [==============================] - 2s 3ms/sample - loss: 1.9938 - mae: 1.1682 - val_loss: 1.8681 - val_mae: 1.1486\n",
      "Epoch 50/50\n",
      "780/800 [============================>.] - ETA: 0s - loss: 2.0166 - mae: 1.1784INFO:tensorflow:Assets written to: models/assets\n",
      "800/800 [==============================] - 2s 3ms/sample - loss: 2.0318 - mae: 1.1847 - val_loss: 2.2604 - val_mae: 1.2793\n"
     ]
    },
    {
     "data": {
      "text/plain": [
       "<tensorflow.python.keras.callbacks.History at 0x1a1479ec9c8>"
      ]
     },
     "execution_count": 12,
     "metadata": {},
     "output_type": "execute_result"
    }
   ],
   "source": [
    "model.fit(X_train, y_train, batch_size=1, epochs=50, validation_data=(X_test,y_test), callbacks=cbList)"
   ]
  },
  {
   "cell_type": "code",
   "execution_count": 13,
   "metadata": {},
   "outputs": [],
   "source": [
    "predictions = model.predict(X_test)"
   ]
  },
  {
   "cell_type": "code",
   "execution_count": 14,
   "metadata": {},
   "outputs": [
    {
     "name": "stdout",
     "output_type": "stream",
     "text": [
      "200/200 [==============================] - 0s 294us/sample - loss: 2.2604 - mae: 1.2793\n"
     ]
    },
    {
     "data": {
      "text/plain": [
       "[2.260421314239502, 1.2792851]"
      ]
     },
     "execution_count": 14,
     "metadata": {},
     "output_type": "execute_result"
    }
   ],
   "source": [
    "model.evaluate(X_test, y_test)"
   ]
  }
 ],
 "metadata": {
  "kernelspec": {
   "display_name": "Python 3",
   "language": "python",
   "name": "python3"
  },
  "language_info": {
   "codemirror_mode": {
    "name": "ipython",
    "version": 3
   },
   "file_extension": ".py",
   "mimetype": "text/x-python",
   "name": "python",
   "nbconvert_exporter": "python",
   "pygments_lexer": "ipython3",
   "version": "3.7.6"
  }
 },
 "nbformat": 4,
 "nbformat_minor": 4
}
