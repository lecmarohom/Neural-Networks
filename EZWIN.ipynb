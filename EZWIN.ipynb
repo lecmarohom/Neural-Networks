{
 "cells": [
  {
   "cell_type": "code",
   "execution_count": 1,
   "metadata": {},
   "outputs": [],
   "source": [
    "import pandas as pd\n",
    "import matplotlib.pyplot as plt\n",
    "import tensorflow as tf\n",
    "import numpy as np\n",
    "import seaborn as sns\n",
    "import glob\n",
    "\n",
    "from sklearn import preprocessing\n",
    "from sklearn.metrics import roc_auc_score, accuracy_score, confusion_matrix, classification_report, recall_score, precision_score\n",
    "from sklearn.model_selection import train_test_split"
   ]
  },
  {
   "cell_type": "code",
   "execution_count": 2,
   "metadata": {},
   "outputs": [],
   "source": [
    "class EarlyStoppingAt(tf.keras.callbacks.Callback):\n",
    "    def __init__(self, monitor='val_loss', value=0.00001, verbose=0):\n",
    "        super(tf.keras.callbacks.Callback, self).__init__()\n",
    "        self.monitor = monitor\n",
    "        self.value = value\n",
    "        self.verbose = verbose\n",
    "\n",
    "    def on_epoch_end(self, epoch, logs={}):\n",
    "        if logs.get(self.monitor) <= self.value:\n",
    "            self.model.stop_training = True"
   ]
  },
  {
   "cell_type": "code",
   "execution_count": 3,
   "metadata": {},
   "outputs": [
    {
     "data": {
      "text/plain": [
       "['data\\\\Challenger_Ranked_Games.csv',\n",
       " 'data\\\\GrandMaster_Ranked_Games.csv',\n",
       " 'data\\\\Master_Ranked_Games.csv']"
      ]
     },
     "execution_count": 3,
     "metadata": {},
     "output_type": "execute_result"
    }
   ],
   "source": [
    "allFiles = glob.glob('data/*.csv')\n",
    "allFiles"
   ]
  },
  {
   "cell_type": "code",
   "execution_count": 4,
   "metadata": {},
   "outputs": [],
   "source": [
    "df = pd.DataFrame([])\n",
    "for _ in allFiles:\n",
    "    dfs = pd.read_csv(_)\n",
    "    dfs['rank'] = _[5:-17]\n",
    "    df = pd.concat([df,dfs])\n",
    "\n",
    "df = df.reset_index(drop=True)\n",
    "df['rank'] = np.where(df['rank']=='Master',0,df['rank'])\n",
    "df['rank'] = np.where(df['rank']=='GrandMaster',1,df['rank'])\n",
    "df['rank'] = np.where(df['rank']=='Challenger',2,df['rank'])\n",
    "df['rank'] = df['rank'].astype('int64')\n",
    "df = df.drop(columns={'redWins','gameId'}) #----- mirror of output\n",
    "df = df.astype('int64')"
   ]
  },
  {
   "cell_type": "markdown",
   "metadata": {},
   "source": [
    "    dfx = df.values #returns a numpy array\n",
    "    min_max_scaler = preprocessing.MinMaxScaler()\n",
    "    dfx_scaled = min_max_scaler.fit_transform(dfx)\n",
    "    df = pd.DataFrame(dfx_scaled,columns=df.columns)"
   ]
  },
  {
   "cell_type": "code",
   "execution_count": 5,
   "metadata": {},
   "outputs": [],
   "source": [
    "target = 'blueWins'\n",
    "\n",
    "X = df.drop(columns={target})\n",
    "y = df[target]"
   ]
  },
  {
   "cell_type": "code",
   "execution_count": 6,
   "metadata": {},
   "outputs": [],
   "source": [
    "X_train, X_test, y_train, y_test  = train_test_split(X, y, test_size=0.2, random_state=420)\n",
    "\n",
    "X_train = X_train.reset_index(drop=True).values.reshape(-1,48,1,1)\n",
    "X_test = X_test.reset_index(drop=True).values.reshape(-1,48,1,1)"
   ]
  },
  {
   "cell_type": "code",
   "execution_count": 7,
   "metadata": {},
   "outputs": [
    {
     "name": "stdout",
     "output_type": "stream",
     "text": [
      "Model: \"model\"\n",
      "_________________________________________________________________\n",
      "Layer (type)                 Output Shape              Param #   \n",
      "=================================================================\n",
      "input_1 (InputLayer)         [(None, 48, 1, 1)]        0         \n",
      "_________________________________________________________________\n",
      "flatten (Flatten)            (None, 48)                0         \n",
      "_________________________________________________________________\n",
      "dense (Dense)                (None, 100)               4900      \n",
      "_________________________________________________________________\n",
      "dense_1 (Dense)              (None, 80)                8080      \n",
      "_________________________________________________________________\n",
      "dense_2 (Dense)              (None, 2)                 162       \n",
      "=================================================================\n",
      "Total params: 13,142\n",
      "Trainable params: 13,142\n",
      "Non-trainable params: 0\n",
      "_________________________________________________________________\n"
     ]
    }
   ],
   "source": [
    "input_ = tf.keras.Input((48, 1, 1))\n",
    "fl = tf.keras.layers.Flatten()(input_)\n",
    "\n",
    "dense1 = tf.keras.layers.Dense(100, activation='relu')(fl)\n",
    "dense2 = tf.keras.layers.Dense(80, activation='relu')(dense1)\n",
    "output = tf.keras.layers.Dense(2, activation='softmax')(dense2) #---------------- softmax returns normalized prediction values | sums to 1\n",
    "\n",
    "\n",
    "model = tf.keras.Model(inputs=input_, outputs=output)\n",
    "model.summary()"
   ]
  },
  {
   "cell_type": "code",
   "execution_count": 8,
   "metadata": {},
   "outputs": [],
   "source": [
    "#filepath = r'models/'\n",
    "bestFilePath = r'models/best_model/'\n",
    "\n",
    "cbList = [\n",
    "    EarlyStoppingAt(monitor='val_loss', value=0.01),\n",
    "    tf.keras.callbacks.ModelCheckpoint(bestFilePath, save_best_only=True)\n",
    "         ]"
   ]
  },
  {
   "cell_type": "code",
   "execution_count": 9,
   "metadata": {},
   "outputs": [],
   "source": [
    "model.compile('adam', 'sparse_categorical_crossentropy', metrics=['accuracy'])"
   ]
  },
  {
   "cell_type": "code",
   "execution_count": 10,
   "metadata": {},
   "outputs": [
    {
     "name": "stdout",
     "output_type": "stream",
     "text": [
      "Train on 159940 samples, validate on 39985 samples\n",
      "Epoch 1/10\n",
      "158784/159940 [============================>.] - ETA: 0s - loss: 47.9307 - accuracy: 0.9551WARNING:tensorflow:From C:\\Users\\Alec\\anaconda3\\lib\\site-packages\\tensorflow_core\\python\\ops\\resource_variable_ops.py:1786: calling BaseResourceVariable.__init__ (from tensorflow.python.ops.resource_variable_ops) with constraint is deprecated and will be removed in a future version.\n",
      "Instructions for updating:\n",
      "If using Keras pass *_constraint arguments to layers.\n",
      "INFO:tensorflow:Assets written to: models/best_model/assets\n",
      "159940/159940 [==============================] - 13s 82us/sample - loss: 47.6471 - accuracy: 0.9552 - val_loss: 9.5063 - val_accuracy: 0.9635\n",
      "Epoch 2/10\n",
      "159840/159940 [============================>.] - ETA: 0s - loss: 4.2066 - accuracy: 0.9621INFO:tensorflow:Assets written to: models/best_model/assets\n",
      "159940/159940 [==============================] - 10s 63us/sample - loss: 4.2049 - accuracy: 0.9621 - val_loss: 0.8981 - val_accuracy: 0.9582\n",
      "Epoch 3/10\n",
      "159872/159940 [============================>.] - ETA: 0s - loss: 0.3079 - accuracy: 0.9492INFO:tensorflow:Assets written to: models/best_model/assets\n",
      "159940/159940 [==============================] - 10s 65us/sample - loss: 0.3078 - accuracy: 0.9492 - val_loss: 0.1323 - val_accuracy: 0.9636\n",
      "Epoch 4/10\n",
      "159200/159940 [============================>.] - ETA: 0s - loss: 0.1632 - accuracy: 0.9542INFO:tensorflow:Assets written to: models/best_model/assets\n",
      "159940/159940 [==============================] - 10s 65us/sample - loss: 0.1629 - accuracy: 0.9543 - val_loss: 0.1253 - val_accuracy: 0.9596\n",
      "Epoch 5/10\n",
      "159940/159940 [==============================] - 10s 60us/sample - loss: 0.1458 - accuracy: 0.9582 - val_loss: 0.3214 - val_accuracy: 0.9189\n",
      "Epoch 6/10\n",
      "159680/159940 [============================>.] - ETA: 0s - loss: 0.1321 - accuracy: 0.9570INFO:tensorflow:Assets written to: models/best_model/assets\n",
      "159940/159940 [==============================] - 10s 63us/sample - loss: 0.1320 - accuracy: 0.9570 - val_loss: 0.0861 - val_accuracy: 0.9693\n",
      "Epoch 7/10\n",
      "159584/159940 [============================>.] - ETA: 0s - loss: 0.0922 - accuracy: 0.9674INFO:tensorflow:Assets written to: models/best_model/assets\n",
      "159940/159940 [==============================] - 10s 62us/sample - loss: 0.0921 - accuracy: 0.9674 - val_loss: 0.0777 - val_accuracy: 0.9731\n",
      "Epoch 8/10\n",
      "159940/159940 [==============================] - 9s 59us/sample - loss: 0.0927 - accuracy: 0.9686 - val_loss: 0.0884 - val_accuracy: 0.9706\n",
      "Epoch 9/10\n",
      "159008/159940 [============================>.] - ETA: 0s - loss: 0.0915 - accuracy: 0.9699INFO:tensorflow:Assets written to: models/best_model/assets\n",
      "159940/159940 [==============================] - 10s 60us/sample - loss: 0.0915 - accuracy: 0.9698 - val_loss: 0.0761 - val_accuracy: 0.9743\n",
      "Epoch 10/10\n",
      "159940/159940 [==============================] - 9s 57us/sample - loss: 0.0841 - accuracy: 0.9718 - val_loss: 0.1031 - val_accuracy: 0.9597\n"
     ]
    }
   ],
   "source": [
    "hst = model.fit(X_train, y_train, batch_size=32, epochs=10, validation_data=(X_test, y_test), callbacks=cbList)"
   ]
  },
  {
   "cell_type": "code",
   "execution_count": 11,
   "metadata": {},
   "outputs": [],
   "source": [
    "best_model = tf.keras.models.load_model(bestFilePath)\n",
    "y_test_pred = best_model.predict(X_test)\n",
    "y_test_pred = np.argmax(y_test_pred, axis=1)"
   ]
  },
  {
   "cell_type": "code",
   "execution_count": 12,
   "metadata": {},
   "outputs": [
    {
     "name": "stdout",
     "output_type": "stream",
     "text": [
      "Random Guess Accuracy: 50%\n",
      "Model Accuracy:  97.4290 %\n"
     ]
    }
   ],
   "source": [
    "print('Random Guess Accuracy: 50%')\n",
    "print('Model Accuracy: ', \"%.4f\" % (accuracy_score(y_test, y_test_pred) * 100), '%')"
   ]
  },
  {
   "cell_type": "code",
   "execution_count": 13,
   "metadata": {},
   "outputs": [
    {
     "name": "stdout",
     "output_type": "stream",
     "text": [
      "Model Precision:  98.3770 %\n"
     ]
    }
   ],
   "source": [
    "print('Model Precision: ', \"%.4f\" % (precision_score(y_test, y_test_pred) * 100), '%')"
   ]
  },
  {
   "cell_type": "code",
   "execution_count": 14,
   "metadata": {},
   "outputs": [
    {
     "name": "stdout",
     "output_type": "stream",
     "text": [
      "Model Recall:  96.4001 %\n"
     ]
    }
   ],
   "source": [
    "print('Model Recall: ', \"%.4f\" % (recall_score(y_test, y_test_pred) * 100), '%')"
   ]
  },
  {
   "cell_type": "code",
   "execution_count": 15,
   "metadata": {},
   "outputs": [
    {
     "name": "stdout",
     "output_type": "stream",
     "text": [
      "Model Precision, and Recall: \n",
      "\n",
      "              precision    recall  f1-score   support\n",
      "\n",
      "           0       0.97      0.98      0.97     20179\n",
      "           1       0.98      0.96      0.97     19806\n",
      "\n",
      "    accuracy                           0.97     39985\n",
      "   macro avg       0.97      0.97      0.97     39985\n",
      "weighted avg       0.97      0.97      0.97     39985\n",
      "\n"
     ]
    }
   ],
   "source": [
    "print('Model Precision, and Recall: \\n')\n",
    "print(classification_report(y_test, y_test_pred))"
   ]
  },
  {
   "cell_type": "code",
   "execution_count": 16,
   "metadata": {},
   "outputs": [
    {
     "name": "stdout",
     "output_type": "stream",
     "text": [
      "Confusion Matrix: \n",
      "\n"
     ]
    },
    {
     "data": {
      "image/png": "[encoded data removed]",
      "text/plain": [
       "<Figure size 432x288 with 2 Axes>"
      ]
     },
     "metadata": {
      "needs_background": "light"
     },
     "output_type": "display_data"
    }
   ],
   "source": [
    "sns.heatmap(confusion_matrix(y_test, y_test_pred), annot=True)\n",
    "plt.ylabel('True')\n",
    "plt.xlabel('Pred')\n",
    "print('Confusion Matrix: \\n')\n",
    "plt.show()"
   ]
  }
 ],
 "metadata": {
  "kernelspec": {
   "display_name": "Python 3",
   "language": "python",
   "name": "python3"
  },
  "language_info": {
   "codemirror_mode": {
    "name": "ipython",
    "version": 3
   },
   "file_extension": ".py",
   "mimetype": "text/x-python",
   "name": "python",
   "nbconvert_exporter": "python",
   "pygments_lexer": "ipython3",
   "version": "3.7.6"
  }
 },
 "nbformat": 4,
 "nbformat_minor": 4
}
