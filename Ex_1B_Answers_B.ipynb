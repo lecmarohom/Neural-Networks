{
 "cells": [
  {
   "cell_type": "markdown",
   "metadata": {},
   "source": [
    "## Exercise 1B: Keras and Dense Networks\n",
    "#### Marohom, Alec Louie A. | 2019190226"
   ]
  },
  {
   "cell_type": "markdown",
   "metadata": {},
   "source": [
    "#### Instructions:\n",
    "Using Keras, train a network to solve a non-linear function Ax^2 + By^2 + Cz^2 + D. Generate 1000 random samples (0-1) using 20% of the data for a test set. Generate a check point at each epoch and use early stopping [1] to determine when the training should stop. Use the appropriate loss function for the problem. You can use the Keras and Deep Dense Networks notebooks as reference. Submit the notebooks (b, c, d) and this document containing the answers."
   ]
  },
  {
   "cell_type": "markdown",
   "metadata": {},
   "source": [
    "Note:\n",
    "[1]: This means you need a validation data. It’s up to you to select the validation split that works for you."
   ]
  },
  {
   "cell_type": "markdown",
   "metadata": {},
   "source": [
    "b.\tTrain the network using a configuration of your choice that will result into a mean absolute error of less than 0.01 for the testing set. You don’t need to specifically choose mean absolute error as your loss as you can also just compute in separately. "
   ]
  },
  {
   "cell_type": "code",
   "execution_count": 1,
   "metadata": {},
   "outputs": [],
   "source": [
    "import numpy as np\n",
    "import pandas as pd\n",
    "import tensorflow as tf\n",
    "import random\n",
    "from sklearn.model_selection import train_test_split as tts"
   ]
  },
  {
   "cell_type": "code",
   "execution_count": 2,
   "metadata": {},
   "outputs": [],
   "source": [
    "a = 1 #Alec \n",
    "c = 13 #Marohom\n",
    "b = c - a\n",
    "d = -b\n",
    "\n",
    "nSamples = 1000"
   ]
  },
  {
   "cell_type": "code",
   "execution_count": 3,
   "metadata": {},
   "outputs": [],
   "source": [
    "def fxn(x, y, z):\n",
    "    return (a*(x**2)) + (b*(y**2)) + (c*(z**2)) + d"
   ]
  },
  {
   "cell_type": "markdown",
   "metadata": {},
   "source": [
    "    datalist = np.random.rand(1000, 3) # random data generated\n",
    "    data1b = pd.DataFrame(datalist, columns=['X','Y','Z'])\n",
    "    data1b.to_csv('ex_1B_data.csv', index=False)"
   ]
  },
  {
   "cell_type": "code",
   "execution_count": 4,
   "metadata": {},
   "outputs": [],
   "source": [
    "datadf = pd.read_csv('ex_1B_data.csv')\n",
    "X = datadf.values"
   ]
  },
  {
   "cell_type": "code",
   "execution_count": 5,
   "metadata": {},
   "outputs": [],
   "source": [
    "X_train, X_test = tts(X, random_state=2020, test_size=0.2)"
   ]
  },
  {
   "cell_type": "code",
   "execution_count": 6,
   "metadata": {},
   "outputs": [],
   "source": [
    "y_train = fxn(X_train[:,0],X_train[:,1],X_train[:,2])\n",
    "y_test = fxn(X_test[:,0],X_test[:,1],X_test[:,2])"
   ]
  },
  {
   "cell_type": "code",
   "execution_count": 7,
   "metadata": {},
   "outputs": [],
   "source": [
    "input_ = tf.keras.layers.Input(shape=(3,)) # input shape\n",
    "\n",
    "dense1 = tf.keras.layers.Dense(500, activation='relu')(input_)\n",
    "dense2 = tf.keras.layers.Dense(500, activation='relu')(dense1)\n",
    "\n",
    "output = tf.keras.layers.Dense(1)(dense2)"
   ]
  },
  {
   "cell_type": "code",
   "execution_count": 8,
   "metadata": {},
   "outputs": [],
   "source": [
    "model = tf.keras.Model(inputs=input_, outputs=output)"
   ]
  },
  {
   "cell_type": "code",
   "execution_count": 9,
   "metadata": {},
   "outputs": [],
   "source": [
    "class EarlyStoppingAt(tf.keras.callbacks.Callback):\n",
    "    def __init__(self, monitor='val_loss', value=0.00001, verbose=0):\n",
    "        super(tf.keras.callbacks.Callback, self).__init__()\n",
    "        self.monitor = monitor\n",
    "        self.value = value\n",
    "        self.verbose = verbose\n",
    "\n",
    "    def on_epoch_end(self, epoch, logs={}):\n",
    "        if logs.get(self.monitor) <= self.value:\n",
    "            self.model.stop_training = True"
   ]
  },
  {
   "cell_type": "code",
   "execution_count": 10,
   "metadata": {},
   "outputs": [],
   "source": [
    "filepath = r'models/'\n",
    "\n",
    "cbList = [\n",
    "    EarlyStoppingAt(monitor='val_loss', value=0.01),\n",
    "    #tf.keras.callbacks.EarlyStopping(monitor='val_loss', mode='min', min_delta=0.01, patience=5)\n",
    "    tf.keras.callbacks.ModelCheckpoint(filepath, monitor='val_loss',save_freq='epoch')\n",
    "         ]"
   ]
  },
  {
   "cell_type": "code",
   "execution_count": 11,
   "metadata": {},
   "outputs": [],
   "source": [
    "model.compile('adam', loss='mse', metrics=['mae'])"
   ]
  },
  {
   "cell_type": "code",
   "execution_count": 12,
   "metadata": {
    "scrolled": false
   },
   "outputs": [
    {
     "name": "stdout",
     "output_type": "stream",
     "text": [
      "Train on 800 samples, validate on 200 samples\n",
      "Epoch 1/50\n",
      "777/800 [============================>.] - ETA: 0s - loss: 8.7829 - mae: 2.0905WARNING:tensorflow:From C:\\Users\\Alec\\anaconda3\\lib\\site-packages\\tensorflow_core\\python\\ops\\resource_variable_ops.py:1786: calling BaseResourceVariable.__init__ (from tensorflow.python.ops.resource_variable_ops) with constraint is deprecated and will be removed in a future version.\n",
      "Instructions for updating:\n",
      "If using Keras pass *_constraint arguments to layers.\n",
      "INFO:tensorflow:Assets written to: models/assets\n",
      "800/800 [==============================] - 2s 3ms/sample - loss: 8.5565 - mae: 2.0516 - val_loss: 0.9431 - val_mae: 0.7382\n",
      "Epoch 2/50\n",
      "787/800 [============================>.] - ETA: 0s - loss: 0.7617 - mae: 0.6520INFO:tensorflow:Assets written to: models/assets\n",
      "800/800 [==============================] - 2s 3ms/sample - loss: 0.7523 - mae: 0.6459 - val_loss: 0.1641 - val_mae: 0.2742\n",
      "Epoch 3/50\n",
      "786/800 [============================>.] - ETA: 0s - loss: 0.1429 - mae: 0.2895INFO:tensorflow:Assets written to: models/assets\n",
      "800/800 [==============================] - 2s 3ms/sample - loss: 0.1411 - mae: 0.2873 - val_loss: 0.1508 - val_mae: 0.3249\n",
      "Epoch 4/50\n",
      "782/800 [============================>.] - ETA: 0s - loss: 0.1274 - mae: 0.2768INFO:tensorflow:Assets written to: models/assets\n",
      "800/800 [==============================] - 2s 3ms/sample - loss: 0.1284 - mae: 0.2776 - val_loss: 0.4426 - val_mae: 0.5961\n",
      "Epoch 5/50\n",
      "795/800 [============================>.] - ETA: 0s - loss: 0.2657 - mae: 0.3728INFO:tensorflow:Assets written to: models/assets\n",
      "800/800 [==============================] - 2s 3ms/sample - loss: 0.2646 - mae: 0.3719 - val_loss: 0.1408 - val_mae: 0.3005\n",
      "Epoch 6/50\n",
      "786/800 [============================>.] - ETA: 0s - loss: 0.2351 - mae: 0.3404INFO:tensorflow:Assets written to: models/assets\n",
      "800/800 [==============================] - 2s 3ms/sample - loss: 0.2329 - mae: 0.3395 - val_loss: 0.0520 - val_mae: 0.1699\n",
      "Epoch 7/50\n",
      "792/800 [============================>.] - ETA: 0s - loss: 0.0827 - mae: 0.2247INFO:tensorflow:Assets written to: models/assets\n",
      "800/800 [==============================] - 2s 3ms/sample - loss: 0.0830 - mae: 0.2257 - val_loss: 0.0742 - val_mae: 0.2316\n",
      "Epoch 8/50\n",
      "779/800 [============================>.] - ETA: 0s - loss: 0.0818 - mae: 0.2189- ETA:INFO:tensorflow:Assets written to: models/assets\n",
      "800/800 [==============================] - 3s 3ms/sample - loss: 0.0808 - mae: 0.2178 - val_loss: 0.0293 - val_mae: 0.1336\n",
      "Epoch 9/50\n",
      "784/800 [============================>.] - ETA: 0s - loss: 0.1612 - mae: 0.3010INFO:tensorflow:Assets written to: models/assets\n",
      "800/800 [==============================] - 3s 3ms/sample - loss: 0.1594 - mae: 0.2999 - val_loss: 0.1359 - val_mae: 0.2921\n",
      "Epoch 10/50\n",
      "787/800 [============================>.] - ETA: 0s - loss: 0.1369 - mae: 0.2715INFO:tensorflow:Assets written to: models/assets\n",
      "800/800 [==============================] - 2s 3ms/sample - loss: 0.1356 - mae: 0.2705 - val_loss: 0.0555 - val_mae: 0.1870\n",
      "Epoch 11/50\n",
      "797/800 [============================>.] - ETA: 0s - loss: 0.1437 - mae: 0.2589INFO:tensorflow:Assets written to: models/assets\n",
      "800/800 [==============================] - 2s 3ms/sample - loss: 0.1433 - mae: 0.2585 - val_loss: 0.0552 - val_mae: 0.2060\n",
      "Epoch 12/50\n",
      "783/800 [============================>.] - ETA: 0s - loss: 0.1292 - mae: 0.2631INFO:tensorflow:Assets written to: models/assets\n",
      "800/800 [==============================] - 2s 3ms/sample - loss: 0.1300 - mae: 0.2647 - val_loss: 0.0532 - val_mae: 0.1927\n",
      "Epoch 13/50\n",
      "791/800 [============================>.] - ETA: 0s - loss: 0.1101 - mae: 0.2345INFO:tensorflow:Assets written to: models/assets\n",
      "800/800 [==============================] - 2s 3ms/sample - loss: 0.1164 - mae: 0.2381 - val_loss: 0.1045 - val_mae: 0.2359\n",
      "Epoch 14/50\n",
      "784/800 [============================>.] - ETA: 0s - loss: 0.0887 - mae: 0.2288INFO:tensorflow:Assets written to: models/assets\n",
      "800/800 [==============================] - 2s 3ms/sample - loss: 0.0911 - mae: 0.2327 - val_loss: 0.1193 - val_mae: 0.2780\n",
      "Epoch 15/50\n",
      "770/800 [===========================>..] - ETA: 0s - loss: 0.1325 - mae: 0.2621INFO:tensorflow:Assets written to: models/assets\n",
      "800/800 [==============================] - 2s 3ms/sample - loss: 0.1329 - mae: 0.2648 - val_loss: 0.0422 - val_mae: 0.1683\n",
      "Epoch 16/50\n",
      "792/800 [============================>.] - ETA: 0s - loss: 0.0635 - mae: 0.1830INFO:tensorflow:Assets written to: models/assets\n",
      "800/800 [==============================] - 2s 3ms/sample - loss: 0.0640 - mae: 0.1842 - val_loss: 0.0558 - val_mae: 0.1940\n",
      "Epoch 17/50\n",
      "785/800 [============================>.] - ETA: 0s - loss: 0.0820 - mae: 0.2127INFO:tensorflow:Assets written to: models/assets\n",
      "800/800 [==============================] - 2s 3ms/sample - loss: 0.0808 - mae: 0.2105 - val_loss: 0.0149 - val_mae: 0.0966\n",
      "Epoch 18/50\n",
      "793/800 [============================>.] - ETA: 0s - loss: 0.1571 - mae: 0.2733INFO:tensorflow:Assets written to: models/assets\n",
      "800/800 [==============================] - 2s 3ms/sample - loss: 0.1562 - mae: 0.2726 - val_loss: 0.0639 - val_mae: 0.1978\n",
      "Epoch 19/50\n",
      "790/800 [============================>.] - ETA: 0s - loss: 0.0834 - mae: 0.2172INFO:tensorflow:Assets written to: models/assets\n",
      "800/800 [==============================] - 2s 3ms/sample - loss: 0.0826 - mae: 0.2161 - val_loss: 0.0240 - val_mae: 0.1137\n",
      "Epoch 20/50\n",
      "789/800 [============================>.] - ETA: 0s - loss: 0.0740 - mae: 0.2056INFO:tensorflow:Assets written to: models/assets\n",
      "800/800 [==============================] - 2s 3ms/sample - loss: 0.0735 - mae: 0.2048 - val_loss: 0.0311 - val_mae: 0.1486\n",
      "Epoch 21/50\n",
      "788/800 [============================>.] - ETA: 0s - loss: 0.0974 - mae: 0.2073INFO:tensorflow:Assets written to: models/assets\n",
      "800/800 [==============================] - 2s 3ms/sample - loss: 0.0995 - mae: 0.2100 - val_loss: 0.5100 - val_mae: 0.6322\n",
      "Epoch 22/50\n",
      "798/800 [============================>.] - ETA: 0s - loss: 0.0629 - mae: 0.1935INFO:tensorflow:Assets written to: models/assets\n",
      "800/800 [==============================] - 2s 3ms/sample - loss: 0.0632 - mae: 0.1941 - val_loss: 0.0234 - val_mae: 0.1232\n",
      "Epoch 23/50\n",
      "784/800 [============================>.] - ETA: 0s - loss: 0.0806 - mae: 0.2173INFO:tensorflow:Assets written to: models/assets\n",
      "800/800 [==============================] - 2s 3ms/sample - loss: 0.0800 - mae: 0.2163 - val_loss: 0.0301 - val_mae: 0.1489\n",
      "Epoch 24/50\n",
      "787/800 [============================>.] - ETA: 0s - loss: 0.0450 - mae: 0.1583INFO:tensorflow:Assets written to: models/assets\n",
      "800/800 [==============================] - 2s 3ms/sample - loss: 0.0451 - mae: 0.1591 - val_loss: 0.0511 - val_mae: 0.1972\n",
      "Epoch 25/50\n",
      "799/800 [============================>.] - ETA: 0s - loss: 0.1207 - mae: 0.2584INFO:tensorflow:Assets written to: models/assets\n",
      "800/800 [==============================] - 2s 3ms/sample - loss: 0.1206 - mae: 0.2583 - val_loss: 0.0232 - val_mae: 0.1293\n",
      "Epoch 26/50\n",
      "775/800 [============================>.] - ETA: 0s - loss: 0.0496 - mae: 0.1683INFO:tensorflow:Assets written to: models/assets\n",
      "800/800 [==============================] - 2s 3ms/sample - loss: 0.0484 - mae: 0.1659 - val_loss: 0.0058 - val_mae: 0.0566\n"
     ]
    },
    {
     "data": {
      "text/plain": [
       "<tensorflow.python.keras.callbacks.History at 0x202ebdbde48>"
      ]
     },
     "execution_count": 12,
     "metadata": {},
     "output_type": "execute_result"
    }
   ],
   "source": [
    "model.fit(X_train, y_train, batch_size=1, epochs=50, validation_data=(X_test,y_test), callbacks=cbList)"
   ]
  },
  {
   "cell_type": "code",
   "execution_count": 13,
   "metadata": {},
   "outputs": [],
   "source": [
    "predictions = model.predict(X_test)"
   ]
  },
  {
   "cell_type": "code",
   "execution_count": 14,
   "metadata": {},
   "outputs": [
    {
     "name": "stdout",
     "output_type": "stream",
     "text": [
      "200/200 [==============================] - 0s 369us/sample - loss: 0.0058 - mae: 0.0566\n"
     ]
    },
    {
     "data": {
      "text/plain": [
       "[0.005803894866257906, 0.056577876]"
      ]
     },
     "execution_count": 14,
     "metadata": {},
     "output_type": "execute_result"
    }
   ],
   "source": [
    "model.evaluate(X_test, y_test)"
   ]
  },
  {
   "cell_type": "code",
   "execution_count": null,
   "metadata": {},
   "outputs": [],
   "source": []
  }
 ],
 "metadata": {
  "kernelspec": {
   "display_name": "Python 3",
   "language": "python",
   "name": "python3"
  },
  "language_info": {
   "codemirror_mode": {
    "name": "ipython",
    "version": 3
   },
   "file_extension": ".py",
   "mimetype": "text/x-python",
   "name": "python",
   "nbconvert_exporter": "python",
   "pygments_lexer": "ipython3",
   "version": "3.7.6"
  }
 },
 "nbformat": 4,
 "nbformat_minor": 4
}
